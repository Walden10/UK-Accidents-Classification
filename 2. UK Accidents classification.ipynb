{
 "cells": [
  {
   "cell_type": "markdown",
   "metadata": {},
   "source": [
    "# UK Accidents Classification - Part 2"
   ]
  },
  {
   "cell_type": "markdown",
   "metadata": {},
   "source": [
    "## Table of Contents\n",
    "\n",
    "1. Data Loading and Environment Setup\n",
    "2. Data Transformations\n",
    "3. Modelling\n",
    "4. Models Evaluation\n",
    "5. Conclusion"
   ]
  },
  {
   "cell_type": "markdown",
   "metadata": {},
   "source": [
    "## 2. Data Loading and Environment Setup"
   ]
  },
  {
   "cell_type": "markdown",
   "metadata": {},
   "source": [
    "We will carry forward from the group segment of the assignment and use the initially cleaned and transformed datasets"
   ]
  },
  {
   "cell_type": "code",
   "execution_count": 1,
   "metadata": {},
   "outputs": [
    {
     "name": "stderr",
     "output_type": "stream",
     "text": [
      "Intel(R) Extension for Scikit-learn* enabled (https://github.com/intel/scikit-learn-intelex)\n"
     ]
    }
   ],
   "source": [
    "# import the pre-requisite libraries\n",
    "\n",
    "# base libraries\n",
    "import os\n",
    "import time\n",
    "\n",
    "\n",
    "# Visualization\n",
    "import matplotlib.pyplot as plt\n",
    "import seaborn as sns\n",
    "\n",
    "\n",
    "# Data manipulation\n",
    "import numpy as np\n",
    "import pandas as pd\n",
    "\n",
    "# do not print warnings\n",
    "import warnings\n",
    "warnings.filterwarnings(\"ignore\")\n",
    "\n",
    "#Global set to view all columns\n",
    "pd.set_option('display.max_columns', None)\n",
    "\n",
    "# intel extension for faster processing\n",
    "from sklearnex import patch_sklearn\n",
    "patch_sklearn()\n",
    "\n",
    "from IPython.display import display"
   ]
  },
  {
   "cell_type": "code",
   "execution_count": 2,
   "metadata": {},
   "outputs": [],
   "source": [
    "Start_time = time.time()"
   ]
  },
  {
   "cell_type": "code",
   "execution_count": 3,
   "metadata": {},
   "outputs": [],
   "source": [
    "# change the working directory\n",
    "os.chdir(r'M:\\Msc Business Analytics\\Semester 2\\Big Data for Decision Making\\Individual Assignment\\Datasets')\n",
    "\n",
    "# import the files as dataframes\n",
    "x_train = pd.read_csv('x_train.csv', header=0, index_col=0)\n",
    "x_test = pd.read_csv('x_test.csv', header=0, index_col=0)\n",
    "y_train = pd.read_csv('y_train.csv', header=0, index_col=0)\n",
    "y_test = pd.read_csv('y_test.csv', header=0, index_col=0)"
   ]
  },
  {
   "cell_type": "code",
   "execution_count": 4,
   "metadata": {},
   "outputs": [
    {
     "data": {
      "text/html": [
       "<div>\n",
       "<style scoped>\n",
       "    .dataframe tbody tr th:only-of-type {\n",
       "        vertical-align: middle;\n",
       "    }\n",
       "\n",
       "    .dataframe tbody tr th {\n",
       "        vertical-align: top;\n",
       "    }\n",
       "\n",
       "    .dataframe thead th {\n",
       "        text-align: right;\n",
       "    }\n",
       "</style>\n",
       "<table border=\"1\" class=\"dataframe\">\n",
       "  <thead>\n",
       "    <tr style=\"text-align: right;\">\n",
       "      <th></th>\n",
       "      <th>age_of_driver</th>\n",
       "      <th>engine_capacity_cc</th>\n",
       "      <th>age_of_vehicle</th>\n",
       "      <th>age_of_casualty</th>\n",
       "      <th>Monday</th>\n",
       "      <th>Saturday</th>\n",
       "      <th>Sunday</th>\n",
       "      <th>Thursday</th>\n",
       "      <th>Tuesday</th>\n",
       "      <th>Wednesday</th>\n",
       "      <th>A(M)</th>\n",
       "      <th>B</th>\n",
       "      <th>C</th>\n",
       "      <th>Motorway</th>\n",
       "      <th>Unclassified</th>\n",
       "      <th>30.0</th>\n",
       "      <th>40.0</th>\n",
       "      <th>50.0</th>\n",
       "      <th>60.0</th>\n",
       "      <th>70.0</th>\n",
       "      <th>Darkness - lights lit</th>\n",
       "      <th>Darkness - lights unlit</th>\n",
       "      <th>Darkness - no lighting</th>\n",
       "      <th>Daylight</th>\n",
       "      <th>Fine no high winds</th>\n",
       "      <th>Fog or mist</th>\n",
       "      <th>Other</th>\n",
       "      <th>Raining + high winds</th>\n",
       "      <th>Raining no high winds</th>\n",
       "      <th>Snowing + high winds</th>\n",
       "      <th>Snowing no high winds</th>\n",
       "      <th>Flood over 3cm. deep</th>\n",
       "      <th>Frost or ice</th>\n",
       "      <th>Snow</th>\n",
       "      <th>Wet or damp</th>\n",
       "      <th>Bus or coach (17 or more pass seats)</th>\n",
       "      <th>Car</th>\n",
       "      <th>Electric motorcycle</th>\n",
       "      <th>Goods 7.5 tonnes mgw and over</th>\n",
       "      <th>Goods over 3.5t. and under 7.5t</th>\n",
       "      <th>Goods vehicle - unknown weight</th>\n",
       "      <th>Minibus (8 - 16 passenger seats)</th>\n",
       "      <th>Mobility scooter</th>\n",
       "      <th>Motorcycle 125cc and under</th>\n",
       "      <th>Motorcycle 50cc and under</th>\n",
       "      <th>Motorcycle over 125cc and up to 500cc</th>\n",
       "      <th>Motorcycle over 500cc</th>\n",
       "      <th>Other vehicle</th>\n",
       "      <th>Pedal cycle</th>\n",
       "      <th>Ridden horse</th>\n",
       "      <th>Taxi/Private hire car</th>\n",
       "      <th>Tram</th>\n",
       "      <th>Van / Goods 3.5 tonnes mgw or under</th>\n",
       "      <th>Male</th>\n",
       "      <th>Less deprived 10-20%</th>\n",
       "      <th>Less deprived 20-30%</th>\n",
       "      <th>Less deprived 30-40%</th>\n",
       "      <th>Less deprived 40-50%</th>\n",
       "      <th>More deprived 10-20%</th>\n",
       "      <th>More deprived 20-30%</th>\n",
       "      <th>More deprived 30-40%</th>\n",
       "      <th>More deprived 40-50%</th>\n",
       "      <th>Most deprived 10%</th>\n",
       "      <th>Small town</th>\n",
       "      <th>Urban area</th>\n",
       "      <th>Passenger</th>\n",
       "      <th>Pedestrian</th>\n",
       "      <th>Bus or coach occupant (17 or more pass seats)</th>\n",
       "      <th>Car occupant</th>\n",
       "      <th>Cyclist</th>\n",
       "      <th>Electric motorcycle rider or passenger</th>\n",
       "      <th>Goods vehicle (7.5 tonnes mgw and over) occupant</th>\n",
       "      <th>Goods vehicle (over 3.5t. and under 7.5t.) occupant</th>\n",
       "      <th>Horse rider</th>\n",
       "      <th>Minibus (8 - 16 passenger seats) occupant</th>\n",
       "      <th>Mobility scooter rider</th>\n",
       "      <th>Motorcycle 125cc and under rider or passenger</th>\n",
       "      <th>Motorcycle 50cc and under rider or passenger</th>\n",
       "      <th>Motorcycle over 125cc and up to 500cc rider or  passenger</th>\n",
       "      <th>Motorcycle over 500cc rider or passenger</th>\n",
       "      <th>Other vehicle occupant</th>\n",
       "      <th>Taxi/Private hire car occupant</th>\n",
       "      <th>Tram occupant</th>\n",
       "      <th>Van / Goods vehicle (3.5 tonnes mgw or under) occupant</th>\n",
       "      <th>01</th>\n",
       "      <th>02</th>\n",
       "      <th>03</th>\n",
       "      <th>04</th>\n",
       "      <th>05</th>\n",
       "      <th>06</th>\n",
       "      <th>07</th>\n",
       "      <th>08</th>\n",
       "      <th>09</th>\n",
       "      <th>10</th>\n",
       "      <th>11</th>\n",
       "      <th>12</th>\n",
       "      <th>13</th>\n",
       "      <th>14</th>\n",
       "      <th>15</th>\n",
       "      <th>16</th>\n",
       "      <th>17</th>\n",
       "      <th>18</th>\n",
       "      <th>19</th>\n",
       "      <th>20</th>\n",
       "      <th>21</th>\n",
       "      <th>22</th>\n",
       "      <th>23</th>\n",
       "    </tr>\n",
       "  </thead>\n",
       "  <tbody>\n",
       "    <tr>\n",
       "      <th>0</th>\n",
       "      <td>0.544983</td>\n",
       "      <td>0.112928</td>\n",
       "      <td>1.254158</td>\n",
       "      <td>0.631427</td>\n",
       "      <td>2.473907</td>\n",
       "      <td>-0.39562</td>\n",
       "      <td>-0.364123</td>\n",
       "      <td>-0.421269</td>\n",
       "      <td>-0.412222</td>\n",
       "      <td>-0.416358</td>\n",
       "      <td>-0.067396</td>\n",
       "      <td>-0.377478</td>\n",
       "      <td>-0.224703</td>\n",
       "      <td>-0.250827</td>\n",
       "      <td>-0.651229</td>\n",
       "      <td>-1.053392</td>\n",
       "      <td>-0.336665</td>\n",
       "      <td>4.051242</td>\n",
       "      <td>-0.454343</td>\n",
       "      <td>-0.335014</td>\n",
       "      <td>-0.482452</td>\n",
       "      <td>-0.081494</td>\n",
       "      <td>-0.256149</td>\n",
       "      <td>0.609005</td>\n",
       "      <td>-2.178610</td>\n",
       "      <td>-0.073737</td>\n",
       "      <td>-0.13638</td>\n",
       "      <td>-0.111927</td>\n",
       "      <td>2.702860</td>\n",
       "      <td>-0.041367</td>\n",
       "      <td>-0.068623</td>\n",
       "      <td>-0.036248</td>\n",
       "      <td>-0.1162</td>\n",
       "      <td>-0.064972</td>\n",
       "      <td>1.605361</td>\n",
       "      <td>-0.131454</td>\n",
       "      <td>0.574405</td>\n",
       "      <td>-0.015274</td>\n",
       "      <td>-0.127083</td>\n",
       "      <td>-0.068987</td>\n",
       "      <td>-0.039903</td>\n",
       "      <td>-0.045161</td>\n",
       "      <td>-0.029714</td>\n",
       "      <td>-0.166959</td>\n",
       "      <td>-0.074164</td>\n",
       "      <td>-0.088021</td>\n",
       "      <td>-0.156095</td>\n",
       "      <td>-0.068403</td>\n",
       "      <td>-0.259277</td>\n",
       "      <td>-0.020328</td>\n",
       "      <td>-0.136949</td>\n",
       "      <td>-0.010587</td>\n",
       "      <td>-0.23618</td>\n",
       "      <td>0.836790</td>\n",
       "      <td>-0.310977</td>\n",
       "      <td>-0.320142</td>\n",
       "      <td>-0.327254</td>\n",
       "      <td>-0.335889</td>\n",
       "      <td>2.846435</td>\n",
       "      <td>-0.343233</td>\n",
       "      <td>-0.343072</td>\n",
       "      <td>-0.339197</td>\n",
       "      <td>-0.368347</td>\n",
       "      <td>-0.329385</td>\n",
       "      <td>0.542695</td>\n",
       "      <td>-0.544115</td>\n",
       "      <td>-0.259849</td>\n",
       "      <td>-0.122078</td>\n",
       "      <td>0.725970</td>\n",
       "      <td>-0.343916</td>\n",
       "      <td>-0.019105</td>\n",
       "      <td>-0.069443</td>\n",
       "      <td>-0.048203</td>\n",
       "      <td>-0.024114</td>\n",
       "      <td>-0.043629</td>\n",
       "      <td>-0.036392</td>\n",
       "      <td>-0.210966</td>\n",
       "      <td>-0.092725</td>\n",
       "      <td>-0.110667</td>\n",
       "      <td>-0.195031</td>\n",
       "      <td>-0.060774</td>\n",
       "      <td>-0.12124</td>\n",
       "      <td>-0.007909</td>\n",
       "      <td>-0.180015</td>\n",
       "      <td>-0.090043</td>\n",
       "      <td>-0.07559</td>\n",
       "      <td>-0.07085</td>\n",
       "      <td>-0.066324</td>\n",
       "      <td>-0.090768</td>\n",
       "      <td>-0.14077</td>\n",
       "      <td>-0.216192</td>\n",
       "      <td>-0.268545</td>\n",
       "      <td>-0.222396</td>\n",
       "      <td>-0.223221</td>\n",
       "      <td>-0.240721</td>\n",
       "      <td>-0.256706</td>\n",
       "      <td>-0.260884</td>\n",
       "      <td>-0.266307</td>\n",
       "      <td>-0.291717</td>\n",
       "      <td>3.276572</td>\n",
       "      <td>-0.318134</td>\n",
       "      <td>-0.276922</td>\n",
       "      <td>-0.230665</td>\n",
       "      <td>-0.193666</td>\n",
       "      <td>-0.170298</td>\n",
       "      <td>-0.157994</td>\n",
       "      <td>-0.13495</td>\n",
       "    </tr>\n",
       "    <tr>\n",
       "      <th>1</th>\n",
       "      <td>0.242464</td>\n",
       "      <td>0.112928</td>\n",
       "      <td>0.655658</td>\n",
       "      <td>-0.329060</td>\n",
       "      <td>-0.404219</td>\n",
       "      <td>-0.39562</td>\n",
       "      <td>2.746327</td>\n",
       "      <td>-0.421269</td>\n",
       "      <td>-0.412222</td>\n",
       "      <td>-0.416358</td>\n",
       "      <td>-0.067396</td>\n",
       "      <td>-0.377478</td>\n",
       "      <td>-0.224703</td>\n",
       "      <td>-0.250827</td>\n",
       "      <td>-0.651229</td>\n",
       "      <td>-1.053392</td>\n",
       "      <td>-0.336665</td>\n",
       "      <td>-0.246838</td>\n",
       "      <td>-0.454343</td>\n",
       "      <td>2.984948</td>\n",
       "      <td>-0.482452</td>\n",
       "      <td>-0.081494</td>\n",
       "      <td>3.903984</td>\n",
       "      <td>-1.642023</td>\n",
       "      <td>-2.178610</td>\n",
       "      <td>-0.073737</td>\n",
       "      <td>-0.13638</td>\n",
       "      <td>-0.111927</td>\n",
       "      <td>2.702860</td>\n",
       "      <td>-0.041367</td>\n",
       "      <td>-0.068623</td>\n",
       "      <td>-0.036248</td>\n",
       "      <td>-0.1162</td>\n",
       "      <td>-0.064972</td>\n",
       "      <td>1.605361</td>\n",
       "      <td>-0.131454</td>\n",
       "      <td>0.574405</td>\n",
       "      <td>-0.015274</td>\n",
       "      <td>-0.127083</td>\n",
       "      <td>-0.068987</td>\n",
       "      <td>-0.039903</td>\n",
       "      <td>-0.045161</td>\n",
       "      <td>-0.029714</td>\n",
       "      <td>-0.166959</td>\n",
       "      <td>-0.074164</td>\n",
       "      <td>-0.088021</td>\n",
       "      <td>-0.156095</td>\n",
       "      <td>-0.068403</td>\n",
       "      <td>-0.259277</td>\n",
       "      <td>-0.020328</td>\n",
       "      <td>-0.136949</td>\n",
       "      <td>-0.010587</td>\n",
       "      <td>-0.23618</td>\n",
       "      <td>0.836790</td>\n",
       "      <td>-0.310977</td>\n",
       "      <td>-0.320142</td>\n",
       "      <td>-0.327254</td>\n",
       "      <td>-0.335889</td>\n",
       "      <td>-0.351317</td>\n",
       "      <td>-0.343233</td>\n",
       "      <td>-0.343072</td>\n",
       "      <td>2.948141</td>\n",
       "      <td>-0.368347</td>\n",
       "      <td>-0.329385</td>\n",
       "      <td>-1.842655</td>\n",
       "      <td>-0.544115</td>\n",
       "      <td>-0.259849</td>\n",
       "      <td>-0.122078</td>\n",
       "      <td>0.725970</td>\n",
       "      <td>-0.343916</td>\n",
       "      <td>-0.019105</td>\n",
       "      <td>-0.069443</td>\n",
       "      <td>-0.048203</td>\n",
       "      <td>-0.024114</td>\n",
       "      <td>-0.043629</td>\n",
       "      <td>-0.036392</td>\n",
       "      <td>-0.210966</td>\n",
       "      <td>-0.092725</td>\n",
       "      <td>-0.110667</td>\n",
       "      <td>-0.195031</td>\n",
       "      <td>-0.060774</td>\n",
       "      <td>-0.12124</td>\n",
       "      <td>-0.007909</td>\n",
       "      <td>-0.180015</td>\n",
       "      <td>-0.090043</td>\n",
       "      <td>-0.07559</td>\n",
       "      <td>-0.07085</td>\n",
       "      <td>-0.066324</td>\n",
       "      <td>-0.090768</td>\n",
       "      <td>-0.14077</td>\n",
       "      <td>-0.216192</td>\n",
       "      <td>-0.268545</td>\n",
       "      <td>-0.222396</td>\n",
       "      <td>-0.223221</td>\n",
       "      <td>-0.240721</td>\n",
       "      <td>-0.256706</td>\n",
       "      <td>-0.260884</td>\n",
       "      <td>-0.266307</td>\n",
       "      <td>-0.291717</td>\n",
       "      <td>-0.305197</td>\n",
       "      <td>-0.318134</td>\n",
       "      <td>-0.276922</td>\n",
       "      <td>-0.230665</td>\n",
       "      <td>-0.193666</td>\n",
       "      <td>-0.170298</td>\n",
       "      <td>-0.157994</td>\n",
       "      <td>-0.13495</td>\n",
       "    </tr>\n",
       "    <tr>\n",
       "      <th>2</th>\n",
       "      <td>-1.088621</td>\n",
       "      <td>-0.157877</td>\n",
       "      <td>-0.142343</td>\n",
       "      <td>-1.022746</td>\n",
       "      <td>-0.404219</td>\n",
       "      <td>-0.39562</td>\n",
       "      <td>-0.364123</td>\n",
       "      <td>2.373779</td>\n",
       "      <td>-0.412222</td>\n",
       "      <td>-0.416358</td>\n",
       "      <td>-0.067396</td>\n",
       "      <td>-0.377478</td>\n",
       "      <td>-0.224703</td>\n",
       "      <td>-0.250827</td>\n",
       "      <td>1.535559</td>\n",
       "      <td>0.949314</td>\n",
       "      <td>-0.336665</td>\n",
       "      <td>-0.246838</td>\n",
       "      <td>-0.454343</td>\n",
       "      <td>-0.335014</td>\n",
       "      <td>-0.482452</td>\n",
       "      <td>-0.081494</td>\n",
       "      <td>-0.256149</td>\n",
       "      <td>0.609005</td>\n",
       "      <td>0.459008</td>\n",
       "      <td>-0.073737</td>\n",
       "      <td>-0.13638</td>\n",
       "      <td>-0.111927</td>\n",
       "      <td>-0.369978</td>\n",
       "      <td>-0.041367</td>\n",
       "      <td>-0.068623</td>\n",
       "      <td>-0.036248</td>\n",
       "      <td>-0.1162</td>\n",
       "      <td>-0.064972</td>\n",
       "      <td>-0.622913</td>\n",
       "      <td>-0.131454</td>\n",
       "      <td>-1.740931</td>\n",
       "      <td>-0.015274</td>\n",
       "      <td>-0.127083</td>\n",
       "      <td>-0.068987</td>\n",
       "      <td>-0.039903</td>\n",
       "      <td>-0.045161</td>\n",
       "      <td>-0.029714</td>\n",
       "      <td>-0.166959</td>\n",
       "      <td>-0.074164</td>\n",
       "      <td>-0.088021</td>\n",
       "      <td>-0.156095</td>\n",
       "      <td>-0.068403</td>\n",
       "      <td>3.856883</td>\n",
       "      <td>-0.020328</td>\n",
       "      <td>-0.136949</td>\n",
       "      <td>-0.010587</td>\n",
       "      <td>-0.23618</td>\n",
       "      <td>0.836790</td>\n",
       "      <td>-0.310977</td>\n",
       "      <td>3.123615</td>\n",
       "      <td>-0.327254</td>\n",
       "      <td>-0.335889</td>\n",
       "      <td>-0.351317</td>\n",
       "      <td>-0.343233</td>\n",
       "      <td>-0.343072</td>\n",
       "      <td>-0.339197</td>\n",
       "      <td>-0.368347</td>\n",
       "      <td>-0.329385</td>\n",
       "      <td>0.542695</td>\n",
       "      <td>-0.544115</td>\n",
       "      <td>-0.259849</td>\n",
       "      <td>-0.122078</td>\n",
       "      <td>-1.377467</td>\n",
       "      <td>-0.343916</td>\n",
       "      <td>-0.019105</td>\n",
       "      <td>-0.069443</td>\n",
       "      <td>-0.048203</td>\n",
       "      <td>-0.024114</td>\n",
       "      <td>-0.043629</td>\n",
       "      <td>-0.036392</td>\n",
       "      <td>4.740108</td>\n",
       "      <td>-0.092725</td>\n",
       "      <td>-0.110667</td>\n",
       "      <td>-0.195031</td>\n",
       "      <td>-0.060774</td>\n",
       "      <td>-0.12124</td>\n",
       "      <td>-0.007909</td>\n",
       "      <td>-0.180015</td>\n",
       "      <td>-0.090043</td>\n",
       "      <td>-0.07559</td>\n",
       "      <td>-0.07085</td>\n",
       "      <td>-0.066324</td>\n",
       "      <td>-0.090768</td>\n",
       "      <td>-0.14077</td>\n",
       "      <td>-0.216192</td>\n",
       "      <td>-0.268545</td>\n",
       "      <td>-0.222396</td>\n",
       "      <td>-0.223221</td>\n",
       "      <td>-0.240721</td>\n",
       "      <td>-0.256706</td>\n",
       "      <td>-0.260884</td>\n",
       "      <td>-0.266307</td>\n",
       "      <td>-0.291717</td>\n",
       "      <td>-0.305197</td>\n",
       "      <td>-0.318134</td>\n",
       "      <td>3.611124</td>\n",
       "      <td>-0.230665</td>\n",
       "      <td>-0.193666</td>\n",
       "      <td>-0.170298</td>\n",
       "      <td>-0.157994</td>\n",
       "      <td>-0.13495</td>\n",
       "    </tr>\n",
       "    <tr>\n",
       "      <th>3</th>\n",
       "      <td>2.360099</td>\n",
       "      <td>-0.429363</td>\n",
       "      <td>0.456158</td>\n",
       "      <td>2.232240</td>\n",
       "      <td>-0.404219</td>\n",
       "      <td>-0.39562</td>\n",
       "      <td>-0.364123</td>\n",
       "      <td>2.373779</td>\n",
       "      <td>-0.412222</td>\n",
       "      <td>-0.416358</td>\n",
       "      <td>-0.067396</td>\n",
       "      <td>-0.377478</td>\n",
       "      <td>-0.224703</td>\n",
       "      <td>-0.250827</td>\n",
       "      <td>-0.651229</td>\n",
       "      <td>-1.053392</td>\n",
       "      <td>-0.336665</td>\n",
       "      <td>-0.246838</td>\n",
       "      <td>2.200982</td>\n",
       "      <td>-0.335014</td>\n",
       "      <td>-0.482452</td>\n",
       "      <td>-0.081494</td>\n",
       "      <td>-0.256149</td>\n",
       "      <td>0.609005</td>\n",
       "      <td>-2.178610</td>\n",
       "      <td>-0.073737</td>\n",
       "      <td>-0.13638</td>\n",
       "      <td>-0.111927</td>\n",
       "      <td>2.702860</td>\n",
       "      <td>-0.041367</td>\n",
       "      <td>-0.068623</td>\n",
       "      <td>-0.036248</td>\n",
       "      <td>-0.1162</td>\n",
       "      <td>-0.064972</td>\n",
       "      <td>1.605361</td>\n",
       "      <td>-0.131454</td>\n",
       "      <td>0.574405</td>\n",
       "      <td>-0.015274</td>\n",
       "      <td>-0.127083</td>\n",
       "      <td>-0.068987</td>\n",
       "      <td>-0.039903</td>\n",
       "      <td>-0.045161</td>\n",
       "      <td>-0.029714</td>\n",
       "      <td>-0.166959</td>\n",
       "      <td>-0.074164</td>\n",
       "      <td>-0.088021</td>\n",
       "      <td>-0.156095</td>\n",
       "      <td>-0.068403</td>\n",
       "      <td>-0.259277</td>\n",
       "      <td>-0.020328</td>\n",
       "      <td>-0.136949</td>\n",
       "      <td>-0.010587</td>\n",
       "      <td>-0.23618</td>\n",
       "      <td>0.836790</td>\n",
       "      <td>-0.310977</td>\n",
       "      <td>-0.320142</td>\n",
       "      <td>-0.327254</td>\n",
       "      <td>2.977172</td>\n",
       "      <td>-0.351317</td>\n",
       "      <td>-0.343233</td>\n",
       "      <td>-0.343072</td>\n",
       "      <td>-0.339197</td>\n",
       "      <td>-0.368347</td>\n",
       "      <td>-0.329385</td>\n",
       "      <td>-1.842655</td>\n",
       "      <td>-0.544115</td>\n",
       "      <td>-0.259849</td>\n",
       "      <td>-0.122078</td>\n",
       "      <td>0.725970</td>\n",
       "      <td>-0.343916</td>\n",
       "      <td>-0.019105</td>\n",
       "      <td>-0.069443</td>\n",
       "      <td>-0.048203</td>\n",
       "      <td>-0.024114</td>\n",
       "      <td>-0.043629</td>\n",
       "      <td>-0.036392</td>\n",
       "      <td>-0.210966</td>\n",
       "      <td>-0.092725</td>\n",
       "      <td>-0.110667</td>\n",
       "      <td>-0.195031</td>\n",
       "      <td>-0.060774</td>\n",
       "      <td>-0.12124</td>\n",
       "      <td>-0.007909</td>\n",
       "      <td>-0.180015</td>\n",
       "      <td>-0.090043</td>\n",
       "      <td>-0.07559</td>\n",
       "      <td>-0.07085</td>\n",
       "      <td>-0.066324</td>\n",
       "      <td>-0.090768</td>\n",
       "      <td>-0.14077</td>\n",
       "      <td>-0.216192</td>\n",
       "      <td>-0.268545</td>\n",
       "      <td>4.496478</td>\n",
       "      <td>-0.223221</td>\n",
       "      <td>-0.240721</td>\n",
       "      <td>-0.256706</td>\n",
       "      <td>-0.260884</td>\n",
       "      <td>-0.266307</td>\n",
       "      <td>-0.291717</td>\n",
       "      <td>-0.305197</td>\n",
       "      <td>-0.318134</td>\n",
       "      <td>-0.276922</td>\n",
       "      <td>-0.230665</td>\n",
       "      <td>-0.193666</td>\n",
       "      <td>-0.170298</td>\n",
       "      <td>-0.157994</td>\n",
       "      <td>-0.13495</td>\n",
       "    </tr>\n",
       "    <tr>\n",
       "      <th>4</th>\n",
       "      <td>2.057580</td>\n",
       "      <td>-0.155836</td>\n",
       "      <td>-0.541344</td>\n",
       "      <td>2.018798</td>\n",
       "      <td>-0.404219</td>\n",
       "      <td>2.52768</td>\n",
       "      <td>-0.364123</td>\n",
       "      <td>-0.421269</td>\n",
       "      <td>-0.412222</td>\n",
       "      <td>-0.416358</td>\n",
       "      <td>-0.067396</td>\n",
       "      <td>2.649161</td>\n",
       "      <td>-0.224703</td>\n",
       "      <td>-0.250827</td>\n",
       "      <td>-0.651229</td>\n",
       "      <td>-1.053392</td>\n",
       "      <td>-0.336665</td>\n",
       "      <td>-0.246838</td>\n",
       "      <td>2.200982</td>\n",
       "      <td>-0.335014</td>\n",
       "      <td>-0.482452</td>\n",
       "      <td>-0.081494</td>\n",
       "      <td>3.903984</td>\n",
       "      <td>-1.642023</td>\n",
       "      <td>0.459008</td>\n",
       "      <td>-0.073737</td>\n",
       "      <td>-0.13638</td>\n",
       "      <td>-0.111927</td>\n",
       "      <td>-0.369978</td>\n",
       "      <td>-0.041367</td>\n",
       "      <td>-0.068623</td>\n",
       "      <td>-0.036248</td>\n",
       "      <td>-0.1162</td>\n",
       "      <td>-0.064972</td>\n",
       "      <td>1.605361</td>\n",
       "      <td>-0.131454</td>\n",
       "      <td>0.574405</td>\n",
       "      <td>-0.015274</td>\n",
       "      <td>-0.127083</td>\n",
       "      <td>-0.068987</td>\n",
       "      <td>-0.039903</td>\n",
       "      <td>-0.045161</td>\n",
       "      <td>-0.029714</td>\n",
       "      <td>-0.166959</td>\n",
       "      <td>-0.074164</td>\n",
       "      <td>-0.088021</td>\n",
       "      <td>-0.156095</td>\n",
       "      <td>-0.068403</td>\n",
       "      <td>-0.259277</td>\n",
       "      <td>-0.020328</td>\n",
       "      <td>-0.136949</td>\n",
       "      <td>-0.010587</td>\n",
       "      <td>-0.23618</td>\n",
       "      <td>-1.195043</td>\n",
       "      <td>-0.310977</td>\n",
       "      <td>-0.320142</td>\n",
       "      <td>-0.327254</td>\n",
       "      <td>-0.335889</td>\n",
       "      <td>-0.351317</td>\n",
       "      <td>-0.343233</td>\n",
       "      <td>-0.343072</td>\n",
       "      <td>-0.339197</td>\n",
       "      <td>-0.368347</td>\n",
       "      <td>-0.329385</td>\n",
       "      <td>0.542695</td>\n",
       "      <td>1.837845</td>\n",
       "      <td>-0.259849</td>\n",
       "      <td>-0.122078</td>\n",
       "      <td>0.725970</td>\n",
       "      <td>-0.343916</td>\n",
       "      <td>-0.019105</td>\n",
       "      <td>-0.069443</td>\n",
       "      <td>-0.048203</td>\n",
       "      <td>-0.024114</td>\n",
       "      <td>-0.043629</td>\n",
       "      <td>-0.036392</td>\n",
       "      <td>-0.210966</td>\n",
       "      <td>-0.092725</td>\n",
       "      <td>-0.110667</td>\n",
       "      <td>-0.195031</td>\n",
       "      <td>-0.060774</td>\n",
       "      <td>-0.12124</td>\n",
       "      <td>-0.007909</td>\n",
       "      <td>-0.180015</td>\n",
       "      <td>-0.090043</td>\n",
       "      <td>-0.07559</td>\n",
       "      <td>-0.07085</td>\n",
       "      <td>-0.066324</td>\n",
       "      <td>-0.090768</td>\n",
       "      <td>-0.14077</td>\n",
       "      <td>-0.216192</td>\n",
       "      <td>-0.268545</td>\n",
       "      <td>-0.222396</td>\n",
       "      <td>-0.223221</td>\n",
       "      <td>-0.240721</td>\n",
       "      <td>-0.256706</td>\n",
       "      <td>-0.260884</td>\n",
       "      <td>-0.266307</td>\n",
       "      <td>-0.291717</td>\n",
       "      <td>-0.305197</td>\n",
       "      <td>-0.318134</td>\n",
       "      <td>-0.276922</td>\n",
       "      <td>-0.230665</td>\n",
       "      <td>5.163516</td>\n",
       "      <td>-0.170298</td>\n",
       "      <td>-0.157994</td>\n",
       "      <td>-0.13495</td>\n",
       "    </tr>\n",
       "  </tbody>\n",
       "</table>\n",
       "</div>"
      ],
      "text/plain": [
       "   age_of_driver  engine_capacity_cc  age_of_vehicle  age_of_casualty  \\\n",
       "0       0.544983            0.112928        1.254158         0.631427   \n",
       "1       0.242464            0.112928        0.655658        -0.329060   \n",
       "2      -1.088621           -0.157877       -0.142343        -1.022746   \n",
       "3       2.360099           -0.429363        0.456158         2.232240   \n",
       "4       2.057580           -0.155836       -0.541344         2.018798   \n",
       "\n",
       "     Monday  Saturday    Sunday  Thursday   Tuesday  Wednesday      A(M)  \\\n",
       "0  2.473907  -0.39562 -0.364123 -0.421269 -0.412222  -0.416358 -0.067396   \n",
       "1 -0.404219  -0.39562  2.746327 -0.421269 -0.412222  -0.416358 -0.067396   \n",
       "2 -0.404219  -0.39562 -0.364123  2.373779 -0.412222  -0.416358 -0.067396   \n",
       "3 -0.404219  -0.39562 -0.364123  2.373779 -0.412222  -0.416358 -0.067396   \n",
       "4 -0.404219   2.52768 -0.364123 -0.421269 -0.412222  -0.416358 -0.067396   \n",
       "\n",
       "          B         C  Motorway  Unclassified      30.0      40.0      50.0  \\\n",
       "0 -0.377478 -0.224703 -0.250827     -0.651229 -1.053392 -0.336665  4.051242   \n",
       "1 -0.377478 -0.224703 -0.250827     -0.651229 -1.053392 -0.336665 -0.246838   \n",
       "2 -0.377478 -0.224703 -0.250827      1.535559  0.949314 -0.336665 -0.246838   \n",
       "3 -0.377478 -0.224703 -0.250827     -0.651229 -1.053392 -0.336665 -0.246838   \n",
       "4  2.649161 -0.224703 -0.250827     -0.651229 -1.053392 -0.336665 -0.246838   \n",
       "\n",
       "       60.0      70.0  Darkness - lights lit  Darkness - lights unlit  \\\n",
       "0 -0.454343 -0.335014              -0.482452                -0.081494   \n",
       "1 -0.454343  2.984948              -0.482452                -0.081494   \n",
       "2 -0.454343 -0.335014              -0.482452                -0.081494   \n",
       "3  2.200982 -0.335014              -0.482452                -0.081494   \n",
       "4  2.200982 -0.335014              -0.482452                -0.081494   \n",
       "\n",
       "   Darkness - no lighting  Daylight  Fine no high winds  Fog or mist    Other  \\\n",
       "0               -0.256149  0.609005           -2.178610    -0.073737 -0.13638   \n",
       "1                3.903984 -1.642023           -2.178610    -0.073737 -0.13638   \n",
       "2               -0.256149  0.609005            0.459008    -0.073737 -0.13638   \n",
       "3               -0.256149  0.609005           -2.178610    -0.073737 -0.13638   \n",
       "4                3.903984 -1.642023            0.459008    -0.073737 -0.13638   \n",
       "\n",
       "   Raining + high winds  Raining no high winds  Snowing + high winds  \\\n",
       "0             -0.111927               2.702860             -0.041367   \n",
       "1             -0.111927               2.702860             -0.041367   \n",
       "2             -0.111927              -0.369978             -0.041367   \n",
       "3             -0.111927               2.702860             -0.041367   \n",
       "4             -0.111927              -0.369978             -0.041367   \n",
       "\n",
       "   Snowing no high winds  Flood over 3cm. deep  Frost or ice      Snow  \\\n",
       "0              -0.068623             -0.036248       -0.1162 -0.064972   \n",
       "1              -0.068623             -0.036248       -0.1162 -0.064972   \n",
       "2              -0.068623             -0.036248       -0.1162 -0.064972   \n",
       "3              -0.068623             -0.036248       -0.1162 -0.064972   \n",
       "4              -0.068623             -0.036248       -0.1162 -0.064972   \n",
       "\n",
       "   Wet or damp  Bus or coach (17 or more pass seats)       Car  \\\n",
       "0     1.605361                             -0.131454  0.574405   \n",
       "1     1.605361                             -0.131454  0.574405   \n",
       "2    -0.622913                             -0.131454 -1.740931   \n",
       "3     1.605361                             -0.131454  0.574405   \n",
       "4     1.605361                             -0.131454  0.574405   \n",
       "\n",
       "   Electric motorcycle  Goods 7.5 tonnes mgw and over  \\\n",
       "0            -0.015274                      -0.127083   \n",
       "1            -0.015274                      -0.127083   \n",
       "2            -0.015274                      -0.127083   \n",
       "3            -0.015274                      -0.127083   \n",
       "4            -0.015274                      -0.127083   \n",
       "\n",
       "   Goods over 3.5t. and under 7.5t  Goods vehicle - unknown weight  \\\n",
       "0                        -0.068987                       -0.039903   \n",
       "1                        -0.068987                       -0.039903   \n",
       "2                        -0.068987                       -0.039903   \n",
       "3                        -0.068987                       -0.039903   \n",
       "4                        -0.068987                       -0.039903   \n",
       "\n",
       "   Minibus (8 - 16 passenger seats)  Mobility scooter  \\\n",
       "0                         -0.045161         -0.029714   \n",
       "1                         -0.045161         -0.029714   \n",
       "2                         -0.045161         -0.029714   \n",
       "3                         -0.045161         -0.029714   \n",
       "4                         -0.045161         -0.029714   \n",
       "\n",
       "   Motorcycle 125cc and under  Motorcycle 50cc and under  \\\n",
       "0                   -0.166959                  -0.074164   \n",
       "1                   -0.166959                  -0.074164   \n",
       "2                   -0.166959                  -0.074164   \n",
       "3                   -0.166959                  -0.074164   \n",
       "4                   -0.166959                  -0.074164   \n",
       "\n",
       "   Motorcycle over 125cc and up to 500cc  Motorcycle over 500cc  \\\n",
       "0                              -0.088021              -0.156095   \n",
       "1                              -0.088021              -0.156095   \n",
       "2                              -0.088021              -0.156095   \n",
       "3                              -0.088021              -0.156095   \n",
       "4                              -0.088021              -0.156095   \n",
       "\n",
       "   Other vehicle  Pedal cycle  Ridden horse  Taxi/Private hire car      Tram  \\\n",
       "0      -0.068403    -0.259277     -0.020328              -0.136949 -0.010587   \n",
       "1      -0.068403    -0.259277     -0.020328              -0.136949 -0.010587   \n",
       "2      -0.068403     3.856883     -0.020328              -0.136949 -0.010587   \n",
       "3      -0.068403    -0.259277     -0.020328              -0.136949 -0.010587   \n",
       "4      -0.068403    -0.259277     -0.020328              -0.136949 -0.010587   \n",
       "\n",
       "   Van / Goods 3.5 tonnes mgw or under      Male  Less deprived 10-20%  \\\n",
       "0                             -0.23618  0.836790             -0.310977   \n",
       "1                             -0.23618  0.836790             -0.310977   \n",
       "2                             -0.23618  0.836790             -0.310977   \n",
       "3                             -0.23618  0.836790             -0.310977   \n",
       "4                             -0.23618 -1.195043             -0.310977   \n",
       "\n",
       "   Less deprived 20-30%  Less deprived 30-40%  Less deprived 40-50%  \\\n",
       "0             -0.320142             -0.327254             -0.335889   \n",
       "1             -0.320142             -0.327254             -0.335889   \n",
       "2              3.123615             -0.327254             -0.335889   \n",
       "3             -0.320142             -0.327254              2.977172   \n",
       "4             -0.320142             -0.327254             -0.335889   \n",
       "\n",
       "   More deprived 10-20%  More deprived 20-30%  More deprived 30-40%  \\\n",
       "0              2.846435             -0.343233             -0.343072   \n",
       "1             -0.351317             -0.343233             -0.343072   \n",
       "2             -0.351317             -0.343233             -0.343072   \n",
       "3             -0.351317             -0.343233             -0.343072   \n",
       "4             -0.351317             -0.343233             -0.343072   \n",
       "\n",
       "   More deprived 40-50%  Most deprived 10%  Small town  Urban area  Passenger  \\\n",
       "0             -0.339197          -0.368347   -0.329385    0.542695  -0.544115   \n",
       "1              2.948141          -0.368347   -0.329385   -1.842655  -0.544115   \n",
       "2             -0.339197          -0.368347   -0.329385    0.542695  -0.544115   \n",
       "3             -0.339197          -0.368347   -0.329385   -1.842655  -0.544115   \n",
       "4             -0.339197          -0.368347   -0.329385    0.542695   1.837845   \n",
       "\n",
       "   Pedestrian  Bus or coach occupant (17 or more pass seats)  Car occupant  \\\n",
       "0   -0.259849                                      -0.122078      0.725970   \n",
       "1   -0.259849                                      -0.122078      0.725970   \n",
       "2   -0.259849                                      -0.122078     -1.377467   \n",
       "3   -0.259849                                      -0.122078      0.725970   \n",
       "4   -0.259849                                      -0.122078      0.725970   \n",
       "\n",
       "    Cyclist  Electric motorcycle rider or passenger  \\\n",
       "0 -0.343916                               -0.019105   \n",
       "1 -0.343916                               -0.019105   \n",
       "2 -0.343916                               -0.019105   \n",
       "3 -0.343916                               -0.019105   \n",
       "4 -0.343916                               -0.019105   \n",
       "\n",
       "   Goods vehicle (7.5 tonnes mgw and over) occupant  \\\n",
       "0                                         -0.069443   \n",
       "1                                         -0.069443   \n",
       "2                                         -0.069443   \n",
       "3                                         -0.069443   \n",
       "4                                         -0.069443   \n",
       "\n",
       "   Goods vehicle (over 3.5t. and under 7.5t.) occupant  Horse rider  \\\n",
       "0                                          -0.048203      -0.024114   \n",
       "1                                          -0.048203      -0.024114   \n",
       "2                                          -0.048203      -0.024114   \n",
       "3                                          -0.048203      -0.024114   \n",
       "4                                          -0.048203      -0.024114   \n",
       "\n",
       "   Minibus (8 - 16 passenger seats) occupant  Mobility scooter rider  \\\n",
       "0                                  -0.043629               -0.036392   \n",
       "1                                  -0.043629               -0.036392   \n",
       "2                                  -0.043629               -0.036392   \n",
       "3                                  -0.043629               -0.036392   \n",
       "4                                  -0.043629               -0.036392   \n",
       "\n",
       "   Motorcycle 125cc and under rider or passenger  \\\n",
       "0                                      -0.210966   \n",
       "1                                      -0.210966   \n",
       "2                                       4.740108   \n",
       "3                                      -0.210966   \n",
       "4                                      -0.210966   \n",
       "\n",
       "   Motorcycle 50cc and under rider or passenger  \\\n",
       "0                                     -0.092725   \n",
       "1                                     -0.092725   \n",
       "2                                     -0.092725   \n",
       "3                                     -0.092725   \n",
       "4                                     -0.092725   \n",
       "\n",
       "   Motorcycle over 125cc and up to 500cc rider or  passenger  \\\n",
       "0                                          -0.110667           \n",
       "1                                          -0.110667           \n",
       "2                                          -0.110667           \n",
       "3                                          -0.110667           \n",
       "4                                          -0.110667           \n",
       "\n",
       "   Motorcycle over 500cc rider or passenger  Other vehicle occupant  \\\n",
       "0                                 -0.195031               -0.060774   \n",
       "1                                 -0.195031               -0.060774   \n",
       "2                                 -0.195031               -0.060774   \n",
       "3                                 -0.195031               -0.060774   \n",
       "4                                 -0.195031               -0.060774   \n",
       "\n",
       "   Taxi/Private hire car occupant  Tram occupant  \\\n",
       "0                        -0.12124      -0.007909   \n",
       "1                        -0.12124      -0.007909   \n",
       "2                        -0.12124      -0.007909   \n",
       "3                        -0.12124      -0.007909   \n",
       "4                        -0.12124      -0.007909   \n",
       "\n",
       "   Van / Goods vehicle (3.5 tonnes mgw or under) occupant        01       02  \\\n",
       "0                                          -0.180015      -0.090043 -0.07559   \n",
       "1                                          -0.180015      -0.090043 -0.07559   \n",
       "2                                          -0.180015      -0.090043 -0.07559   \n",
       "3                                          -0.180015      -0.090043 -0.07559   \n",
       "4                                          -0.180015      -0.090043 -0.07559   \n",
       "\n",
       "        03        04        05       06        07        08        09  \\\n",
       "0 -0.07085 -0.066324 -0.090768 -0.14077 -0.216192 -0.268545 -0.222396   \n",
       "1 -0.07085 -0.066324 -0.090768 -0.14077 -0.216192 -0.268545 -0.222396   \n",
       "2 -0.07085 -0.066324 -0.090768 -0.14077 -0.216192 -0.268545 -0.222396   \n",
       "3 -0.07085 -0.066324 -0.090768 -0.14077 -0.216192 -0.268545  4.496478   \n",
       "4 -0.07085 -0.066324 -0.090768 -0.14077 -0.216192 -0.268545 -0.222396   \n",
       "\n",
       "         10        11        12        13        14        15        16  \\\n",
       "0 -0.223221 -0.240721 -0.256706 -0.260884 -0.266307 -0.291717  3.276572   \n",
       "1 -0.223221 -0.240721 -0.256706 -0.260884 -0.266307 -0.291717 -0.305197   \n",
       "2 -0.223221 -0.240721 -0.256706 -0.260884 -0.266307 -0.291717 -0.305197   \n",
       "3 -0.223221 -0.240721 -0.256706 -0.260884 -0.266307 -0.291717 -0.305197   \n",
       "4 -0.223221 -0.240721 -0.256706 -0.260884 -0.266307 -0.291717 -0.305197   \n",
       "\n",
       "         17        18        19        20        21        22       23  \n",
       "0 -0.318134 -0.276922 -0.230665 -0.193666 -0.170298 -0.157994 -0.13495  \n",
       "1 -0.318134 -0.276922 -0.230665 -0.193666 -0.170298 -0.157994 -0.13495  \n",
       "2 -0.318134  3.611124 -0.230665 -0.193666 -0.170298 -0.157994 -0.13495  \n",
       "3 -0.318134 -0.276922 -0.230665 -0.193666 -0.170298 -0.157994 -0.13495  \n",
       "4 -0.318134 -0.276922 -0.230665  5.163516 -0.170298 -0.157994 -0.13495  "
      ]
     },
     "execution_count": 4,
     "metadata": {},
     "output_type": "execute_result"
    }
   ],
   "source": [
    "# inspect the x_train set\n",
    "x_train.head()"
   ]
  },
  {
   "cell_type": "code",
   "execution_count": 5,
   "metadata": {},
   "outputs": [
    {
     "name": "stdout",
     "output_type": "stream",
     "text": [
      "(767424, 107) (767424, 1)\n"
     ]
    }
   ],
   "source": [
    "# inspect data types and potential null-values\n",
    "print(x_train.shape, y_train.shape)"
   ]
  },
  {
   "cell_type": "markdown",
   "metadata": {},
   "source": [
    "We can see that we're working with over 700,000 records of accidents and 107 features. It is likely that this would lead to lenghty training times if untreated, therefore we'll take measures to make our data and training more manageable.\n"
   ]
  },
  {
   "cell_type": "markdown",
   "metadata": {},
   "source": [
    "## 3. Data Reduction"
   ]
  },
  {
   "cell_type": "markdown",
   "metadata": {},
   "source": [
    "We'll be reducing the size of our training data to make training times more manageable for our multiple models.\n",
    "\n",
    "1. Feature selection using the ANOVA method to reduce number of columns\n",
    "2. Taking a smaller sample (records) of our data to reduce the number of rows\n",
    "\n",
    "*We do not use any feature extraction methods such as Linear Discriminant Analysis as we would like to identify feature importance after building our models.*"
   ]
  },
  {
   "cell_type": "code",
   "execution_count": 6,
   "metadata": {},
   "outputs": [],
   "source": [
    "# transform the label for our Fatal variable to make it more intuitive\n",
    "y_train.replace([1,0], ['Fatal','Non-Fatal'], inplace=True)\n",
    "y_test.replace([1,0], ['Fatal', 'Non-Fatal'], inplace=True)"
   ]
  },
  {
   "cell_type": "markdown",
   "metadata": {},
   "source": [
    "### 3.1 Feature Selection using ANOVA"
   ]
  },
  {
   "cell_type": "code",
   "execution_count": 7,
   "metadata": {},
   "outputs": [
    {
     "name": "stdout",
     "output_type": "stream",
     "text": [
      "(767424, 30) (191929, 30)\n"
     ]
    }
   ],
   "source": [
    "# import the feature selection libraries\n",
    "from sklearn.feature_selection import SelectKBest\n",
    "from sklearn.feature_selection import f_classif\n",
    "\n",
    "# instantiate class, get the 25 best features based on the ANOVA F-score for classification\n",
    "selector = SelectKBest(f_classif, k=30)\n",
    "\n",
    "# fit the selector onto our training dataset\n",
    "selector.fit(x_train, y_train)\n",
    "\n",
    "# we get the columns we want to keep and create a new dataframe with those only\n",
    "columns =  selector.get_support(indices=True)\n",
    "x_train_new = x_train.iloc[:,columns]\n",
    "x_test_new = x_test.iloc[:,columns]\n",
    "\n",
    "print(x_train_new.shape, x_test_new.shape)"
   ]
  },
  {
   "cell_type": "code",
   "execution_count": 8,
   "metadata": {},
   "outputs": [
    {
     "data": {
      "text/html": [
       "<div>\n",
       "<style scoped>\n",
       "    .dataframe tbody tr th:only-of-type {\n",
       "        vertical-align: middle;\n",
       "    }\n",
       "\n",
       "    .dataframe tbody tr th {\n",
       "        vertical-align: top;\n",
       "    }\n",
       "\n",
       "    .dataframe thead th {\n",
       "        text-align: right;\n",
       "    }\n",
       "</style>\n",
       "<table border=\"1\" class=\"dataframe\">\n",
       "  <thead>\n",
       "    <tr style=\"text-align: right;\">\n",
       "      <th></th>\n",
       "      <th>age_of_driver</th>\n",
       "      <th>engine_capacity_cc</th>\n",
       "      <th>age_of_casualty</th>\n",
       "      <th>Sunday</th>\n",
       "      <th>Motorway</th>\n",
       "      <th>Unclassified</th>\n",
       "      <th>30.0</th>\n",
       "      <th>50.0</th>\n",
       "      <th>60.0</th>\n",
       "      <th>70.0</th>\n",
       "      <th>Darkness - no lighting</th>\n",
       "      <th>Daylight</th>\n",
       "      <th>Car</th>\n",
       "      <th>Goods 7.5 tonnes mgw and over</th>\n",
       "      <th>Motorcycle over 500cc</th>\n",
       "      <th>Pedal cycle</th>\n",
       "      <th>Male</th>\n",
       "      <th>Small town</th>\n",
       "      <th>Urban area</th>\n",
       "      <th>Pedestrian</th>\n",
       "      <th>Car occupant</th>\n",
       "      <th>Cyclist</th>\n",
       "      <th>Goods vehicle (7.5 tonnes mgw and over) occupant</th>\n",
       "      <th>Motorcycle 125cc and under rider or passenger</th>\n",
       "      <th>Motorcycle over 500cc rider or passenger</th>\n",
       "      <th>01</th>\n",
       "      <th>03</th>\n",
       "      <th>05</th>\n",
       "      <th>08</th>\n",
       "      <th>22</th>\n",
       "    </tr>\n",
       "  </thead>\n",
       "  <tbody>\n",
       "    <tr>\n",
       "      <th>0</th>\n",
       "      <td>0.544983</td>\n",
       "      <td>0.112928</td>\n",
       "      <td>0.631427</td>\n",
       "      <td>-0.364123</td>\n",
       "      <td>-0.250827</td>\n",
       "      <td>-0.651229</td>\n",
       "      <td>-1.053392</td>\n",
       "      <td>4.051242</td>\n",
       "      <td>-0.454343</td>\n",
       "      <td>-0.335014</td>\n",
       "      <td>-0.256149</td>\n",
       "      <td>0.609005</td>\n",
       "      <td>0.574405</td>\n",
       "      <td>-0.127083</td>\n",
       "      <td>-0.156095</td>\n",
       "      <td>-0.259277</td>\n",
       "      <td>0.836790</td>\n",
       "      <td>-0.329385</td>\n",
       "      <td>0.542695</td>\n",
       "      <td>-0.259849</td>\n",
       "      <td>0.725970</td>\n",
       "      <td>-0.343916</td>\n",
       "      <td>-0.069443</td>\n",
       "      <td>-0.210966</td>\n",
       "      <td>-0.195031</td>\n",
       "      <td>-0.090043</td>\n",
       "      <td>-0.07085</td>\n",
       "      <td>-0.090768</td>\n",
       "      <td>-0.268545</td>\n",
       "      <td>-0.157994</td>\n",
       "    </tr>\n",
       "    <tr>\n",
       "      <th>1</th>\n",
       "      <td>0.242464</td>\n",
       "      <td>0.112928</td>\n",
       "      <td>-0.329060</td>\n",
       "      <td>2.746327</td>\n",
       "      <td>-0.250827</td>\n",
       "      <td>-0.651229</td>\n",
       "      <td>-1.053392</td>\n",
       "      <td>-0.246838</td>\n",
       "      <td>-0.454343</td>\n",
       "      <td>2.984948</td>\n",
       "      <td>3.903984</td>\n",
       "      <td>-1.642023</td>\n",
       "      <td>0.574405</td>\n",
       "      <td>-0.127083</td>\n",
       "      <td>-0.156095</td>\n",
       "      <td>-0.259277</td>\n",
       "      <td>0.836790</td>\n",
       "      <td>-0.329385</td>\n",
       "      <td>-1.842655</td>\n",
       "      <td>-0.259849</td>\n",
       "      <td>0.725970</td>\n",
       "      <td>-0.343916</td>\n",
       "      <td>-0.069443</td>\n",
       "      <td>-0.210966</td>\n",
       "      <td>-0.195031</td>\n",
       "      <td>-0.090043</td>\n",
       "      <td>-0.07085</td>\n",
       "      <td>-0.090768</td>\n",
       "      <td>-0.268545</td>\n",
       "      <td>-0.157994</td>\n",
       "    </tr>\n",
       "    <tr>\n",
       "      <th>2</th>\n",
       "      <td>-1.088621</td>\n",
       "      <td>-0.157877</td>\n",
       "      <td>-1.022746</td>\n",
       "      <td>-0.364123</td>\n",
       "      <td>-0.250827</td>\n",
       "      <td>1.535559</td>\n",
       "      <td>0.949314</td>\n",
       "      <td>-0.246838</td>\n",
       "      <td>-0.454343</td>\n",
       "      <td>-0.335014</td>\n",
       "      <td>-0.256149</td>\n",
       "      <td>0.609005</td>\n",
       "      <td>-1.740931</td>\n",
       "      <td>-0.127083</td>\n",
       "      <td>-0.156095</td>\n",
       "      <td>3.856883</td>\n",
       "      <td>0.836790</td>\n",
       "      <td>-0.329385</td>\n",
       "      <td>0.542695</td>\n",
       "      <td>-0.259849</td>\n",
       "      <td>-1.377467</td>\n",
       "      <td>-0.343916</td>\n",
       "      <td>-0.069443</td>\n",
       "      <td>4.740108</td>\n",
       "      <td>-0.195031</td>\n",
       "      <td>-0.090043</td>\n",
       "      <td>-0.07085</td>\n",
       "      <td>-0.090768</td>\n",
       "      <td>-0.268545</td>\n",
       "      <td>-0.157994</td>\n",
       "    </tr>\n",
       "    <tr>\n",
       "      <th>3</th>\n",
       "      <td>2.360099</td>\n",
       "      <td>-0.429363</td>\n",
       "      <td>2.232240</td>\n",
       "      <td>-0.364123</td>\n",
       "      <td>-0.250827</td>\n",
       "      <td>-0.651229</td>\n",
       "      <td>-1.053392</td>\n",
       "      <td>-0.246838</td>\n",
       "      <td>2.200982</td>\n",
       "      <td>-0.335014</td>\n",
       "      <td>-0.256149</td>\n",
       "      <td>0.609005</td>\n",
       "      <td>0.574405</td>\n",
       "      <td>-0.127083</td>\n",
       "      <td>-0.156095</td>\n",
       "      <td>-0.259277</td>\n",
       "      <td>0.836790</td>\n",
       "      <td>-0.329385</td>\n",
       "      <td>-1.842655</td>\n",
       "      <td>-0.259849</td>\n",
       "      <td>0.725970</td>\n",
       "      <td>-0.343916</td>\n",
       "      <td>-0.069443</td>\n",
       "      <td>-0.210966</td>\n",
       "      <td>-0.195031</td>\n",
       "      <td>-0.090043</td>\n",
       "      <td>-0.07085</td>\n",
       "      <td>-0.090768</td>\n",
       "      <td>-0.268545</td>\n",
       "      <td>-0.157994</td>\n",
       "    </tr>\n",
       "    <tr>\n",
       "      <th>4</th>\n",
       "      <td>2.057580</td>\n",
       "      <td>-0.155836</td>\n",
       "      <td>2.018798</td>\n",
       "      <td>-0.364123</td>\n",
       "      <td>-0.250827</td>\n",
       "      <td>-0.651229</td>\n",
       "      <td>-1.053392</td>\n",
       "      <td>-0.246838</td>\n",
       "      <td>2.200982</td>\n",
       "      <td>-0.335014</td>\n",
       "      <td>3.903984</td>\n",
       "      <td>-1.642023</td>\n",
       "      <td>0.574405</td>\n",
       "      <td>-0.127083</td>\n",
       "      <td>-0.156095</td>\n",
       "      <td>-0.259277</td>\n",
       "      <td>-1.195043</td>\n",
       "      <td>-0.329385</td>\n",
       "      <td>0.542695</td>\n",
       "      <td>-0.259849</td>\n",
       "      <td>0.725970</td>\n",
       "      <td>-0.343916</td>\n",
       "      <td>-0.069443</td>\n",
       "      <td>-0.210966</td>\n",
       "      <td>-0.195031</td>\n",
       "      <td>-0.090043</td>\n",
       "      <td>-0.07085</td>\n",
       "      <td>-0.090768</td>\n",
       "      <td>-0.268545</td>\n",
       "      <td>-0.157994</td>\n",
       "    </tr>\n",
       "  </tbody>\n",
       "</table>\n",
       "</div>"
      ],
      "text/plain": [
       "   age_of_driver  engine_capacity_cc  age_of_casualty    Sunday  Motorway  \\\n",
       "0       0.544983            0.112928         0.631427 -0.364123 -0.250827   \n",
       "1       0.242464            0.112928        -0.329060  2.746327 -0.250827   \n",
       "2      -1.088621           -0.157877        -1.022746 -0.364123 -0.250827   \n",
       "3       2.360099           -0.429363         2.232240 -0.364123 -0.250827   \n",
       "4       2.057580           -0.155836         2.018798 -0.364123 -0.250827   \n",
       "\n",
       "   Unclassified      30.0      50.0      60.0      70.0  \\\n",
       "0     -0.651229 -1.053392  4.051242 -0.454343 -0.335014   \n",
       "1     -0.651229 -1.053392 -0.246838 -0.454343  2.984948   \n",
       "2      1.535559  0.949314 -0.246838 -0.454343 -0.335014   \n",
       "3     -0.651229 -1.053392 -0.246838  2.200982 -0.335014   \n",
       "4     -0.651229 -1.053392 -0.246838  2.200982 -0.335014   \n",
       "\n",
       "   Darkness - no lighting  Daylight       Car  Goods 7.5 tonnes mgw and over  \\\n",
       "0               -0.256149  0.609005  0.574405                      -0.127083   \n",
       "1                3.903984 -1.642023  0.574405                      -0.127083   \n",
       "2               -0.256149  0.609005 -1.740931                      -0.127083   \n",
       "3               -0.256149  0.609005  0.574405                      -0.127083   \n",
       "4                3.903984 -1.642023  0.574405                      -0.127083   \n",
       "\n",
       "   Motorcycle over 500cc  Pedal cycle      Male  Small town  Urban area  \\\n",
       "0              -0.156095    -0.259277  0.836790   -0.329385    0.542695   \n",
       "1              -0.156095    -0.259277  0.836790   -0.329385   -1.842655   \n",
       "2              -0.156095     3.856883  0.836790   -0.329385    0.542695   \n",
       "3              -0.156095    -0.259277  0.836790   -0.329385   -1.842655   \n",
       "4              -0.156095    -0.259277 -1.195043   -0.329385    0.542695   \n",
       "\n",
       "   Pedestrian  Car occupant   Cyclist  \\\n",
       "0   -0.259849      0.725970 -0.343916   \n",
       "1   -0.259849      0.725970 -0.343916   \n",
       "2   -0.259849     -1.377467 -0.343916   \n",
       "3   -0.259849      0.725970 -0.343916   \n",
       "4   -0.259849      0.725970 -0.343916   \n",
       "\n",
       "   Goods vehicle (7.5 tonnes mgw and over) occupant  \\\n",
       "0                                         -0.069443   \n",
       "1                                         -0.069443   \n",
       "2                                         -0.069443   \n",
       "3                                         -0.069443   \n",
       "4                                         -0.069443   \n",
       "\n",
       "   Motorcycle 125cc and under rider or passenger  \\\n",
       "0                                      -0.210966   \n",
       "1                                      -0.210966   \n",
       "2                                       4.740108   \n",
       "3                                      -0.210966   \n",
       "4                                      -0.210966   \n",
       "\n",
       "   Motorcycle over 500cc rider or passenger        01       03        05  \\\n",
       "0                                 -0.195031 -0.090043 -0.07085 -0.090768   \n",
       "1                                 -0.195031 -0.090043 -0.07085 -0.090768   \n",
       "2                                 -0.195031 -0.090043 -0.07085 -0.090768   \n",
       "3                                 -0.195031 -0.090043 -0.07085 -0.090768   \n",
       "4                                 -0.195031 -0.090043 -0.07085 -0.090768   \n",
       "\n",
       "         08        22  \n",
       "0 -0.268545 -0.157994  \n",
       "1 -0.268545 -0.157994  \n",
       "2 -0.268545 -0.157994  \n",
       "3 -0.268545 -0.157994  \n",
       "4 -0.268545 -0.157994  "
      ]
     },
     "execution_count": 8,
     "metadata": {},
     "output_type": "execute_result"
    }
   ],
   "source": [
    "# inspect the new dataset\n",
    "x_train_new.head()"
   ]
  },
  {
   "cell_type": "markdown",
   "metadata": {},
   "source": [
    "### 3.2 Selecting Smaller Samples for Model Training"
   ]
  },
  {
   "cell_type": "markdown",
   "metadata": {},
   "source": [
    "Even with smaller feature count, we have over 700,000 records to train on multiple ML models, which would take a significant amount of time. As such we will further reduce the size of our dataframe"
   ]
  },
  {
   "cell_type": "code",
   "execution_count": 11,
   "metadata": {},
   "outputs": [
    {
     "name": "stdout",
     "output_type": "stream",
     "text": [
      "(31144, 30) (31144, 1)\n"
     ]
    }
   ],
   "source": [
    "# first we undersample the data to help both improve class imbalance and reduce training size\n",
    "# import the imbalanced learn, Random Under Sampling Method\n",
    "from imblearn.under_sampling import RandomUnderSampler\n",
    "\n",
    "# Instantiate undersampler with Fatal cases to be equal to Majority Class\n",
    "rus_sampler = RandomUnderSampler(random_state=7, sampling_strategy=1)\n",
    "\n",
    "# fit and transform the original training dataset\n",
    "x_train, y_train = rus_sampler.fit_resample(x_train_new, y_train)\n",
    "\n",
    "print(x_train.shape, y_train.shape)"
   ]
  },
  {
   "cell_type": "code",
   "execution_count": 12,
   "metadata": {},
   "outputs": [
    {
     "data": {
      "text/html": [
       "<div>\n",
       "<style scoped>\n",
       "    .dataframe tbody tr th:only-of-type {\n",
       "        vertical-align: middle;\n",
       "    }\n",
       "\n",
       "    .dataframe tbody tr th {\n",
       "        vertical-align: top;\n",
       "    }\n",
       "\n",
       "    .dataframe thead th {\n",
       "        text-align: right;\n",
       "    }\n",
       "</style>\n",
       "<table border=\"1\" class=\"dataframe\">\n",
       "  <thead>\n",
       "    <tr style=\"text-align: right;\">\n",
       "      <th></th>\n",
       "      <th>age_of_driver</th>\n",
       "      <th>engine_capacity_cc</th>\n",
       "      <th>age_of_casualty</th>\n",
       "      <th>Sunday</th>\n",
       "      <th>Motorway</th>\n",
       "      <th>Unclassified</th>\n",
       "      <th>30.0</th>\n",
       "      <th>50.0</th>\n",
       "      <th>60.0</th>\n",
       "      <th>70.0</th>\n",
       "      <th>Darkness - no lighting</th>\n",
       "      <th>Daylight</th>\n",
       "      <th>Car</th>\n",
       "      <th>Goods 7.5 tonnes mgw and over</th>\n",
       "      <th>Motorcycle over 500cc</th>\n",
       "      <th>Pedal cycle</th>\n",
       "      <th>Male</th>\n",
       "      <th>Small town</th>\n",
       "      <th>Urban area</th>\n",
       "      <th>Pedestrian</th>\n",
       "      <th>Car occupant</th>\n",
       "      <th>Cyclist</th>\n",
       "      <th>Goods vehicle (7.5 tonnes mgw and over) occupant</th>\n",
       "      <th>Motorcycle 125cc and under rider or passenger</th>\n",
       "      <th>Motorcycle over 500cc rider or passenger</th>\n",
       "      <th>01</th>\n",
       "      <th>03</th>\n",
       "      <th>05</th>\n",
       "      <th>08</th>\n",
       "      <th>22</th>\n",
       "    </tr>\n",
       "  </thead>\n",
       "  <tbody>\n",
       "    <tr>\n",
       "      <th>0</th>\n",
       "      <td>0.847503</td>\n",
       "      <td>0.055093</td>\n",
       "      <td>1.485194</td>\n",
       "      <td>-0.364123</td>\n",
       "      <td>-0.250827</td>\n",
       "      <td>-0.651229</td>\n",
       "      <td>-1.053392</td>\n",
       "      <td>-0.246838</td>\n",
       "      <td>2.200982</td>\n",
       "      <td>-0.335014</td>\n",
       "      <td>-0.256149</td>\n",
       "      <td>0.609005</td>\n",
       "      <td>0.574405</td>\n",
       "      <td>-0.127083</td>\n",
       "      <td>-0.156095</td>\n",
       "      <td>-0.259277</td>\n",
       "      <td>0.836790</td>\n",
       "      <td>-0.329385</td>\n",
       "      <td>0.542695</td>\n",
       "      <td>-0.259849</td>\n",
       "      <td>-1.377467</td>\n",
       "      <td>-0.343916</td>\n",
       "      <td>-0.069443</td>\n",
       "      <td>-0.210966</td>\n",
       "      <td>-0.195031</td>\n",
       "      <td>-0.090043</td>\n",
       "      <td>-0.07085</td>\n",
       "      <td>-0.090768</td>\n",
       "      <td>-0.268545</td>\n",
       "      <td>-0.157994</td>\n",
       "    </tr>\n",
       "    <tr>\n",
       "      <th>1</th>\n",
       "      <td>0.000449</td>\n",
       "      <td>0.782456</td>\n",
       "      <td>1.378473</td>\n",
       "      <td>2.746327</td>\n",
       "      <td>-0.250827</td>\n",
       "      <td>-0.651229</td>\n",
       "      <td>0.949314</td>\n",
       "      <td>-0.246838</td>\n",
       "      <td>-0.454343</td>\n",
       "      <td>-0.335014</td>\n",
       "      <td>-0.256149</td>\n",
       "      <td>-1.642023</td>\n",
       "      <td>0.574405</td>\n",
       "      <td>-0.127083</td>\n",
       "      <td>-0.156095</td>\n",
       "      <td>-0.259277</td>\n",
       "      <td>0.836790</td>\n",
       "      <td>-0.329385</td>\n",
       "      <td>0.542695</td>\n",
       "      <td>-0.259849</td>\n",
       "      <td>0.725970</td>\n",
       "      <td>-0.343916</td>\n",
       "      <td>-0.069443</td>\n",
       "      <td>-0.210966</td>\n",
       "      <td>-0.195031</td>\n",
       "      <td>-0.090043</td>\n",
       "      <td>-0.07085</td>\n",
       "      <td>-0.090768</td>\n",
       "      <td>-0.268545</td>\n",
       "      <td>-0.157994</td>\n",
       "    </tr>\n",
       "    <tr>\n",
       "      <th>2</th>\n",
       "      <td>-0.241567</td>\n",
       "      <td>-0.313692</td>\n",
       "      <td>-1.022746</td>\n",
       "      <td>-0.364123</td>\n",
       "      <td>-0.250827</td>\n",
       "      <td>-0.651229</td>\n",
       "      <td>-1.053392</td>\n",
       "      <td>-0.246838</td>\n",
       "      <td>2.200982</td>\n",
       "      <td>-0.335014</td>\n",
       "      <td>-0.256149</td>\n",
       "      <td>0.609005</td>\n",
       "      <td>0.574405</td>\n",
       "      <td>-0.127083</td>\n",
       "      <td>-0.156095</td>\n",
       "      <td>-0.259277</td>\n",
       "      <td>-1.195043</td>\n",
       "      <td>-0.329385</td>\n",
       "      <td>0.542695</td>\n",
       "      <td>-0.259849</td>\n",
       "      <td>0.725970</td>\n",
       "      <td>-0.343916</td>\n",
       "      <td>-0.069443</td>\n",
       "      <td>-0.210966</td>\n",
       "      <td>-0.195031</td>\n",
       "      <td>-0.090043</td>\n",
       "      <td>-0.07085</td>\n",
       "      <td>-0.090768</td>\n",
       "      <td>3.723776</td>\n",
       "      <td>-0.157994</td>\n",
       "    </tr>\n",
       "    <tr>\n",
       "      <th>3</th>\n",
       "      <td>-1.270132</td>\n",
       "      <td>-0.298723</td>\n",
       "      <td>-1.129466</td>\n",
       "      <td>-0.364123</td>\n",
       "      <td>-0.250827</td>\n",
       "      <td>1.535559</td>\n",
       "      <td>-1.053392</td>\n",
       "      <td>-0.246838</td>\n",
       "      <td>2.200982</td>\n",
       "      <td>-0.335014</td>\n",
       "      <td>3.903984</td>\n",
       "      <td>-1.642023</td>\n",
       "      <td>0.574405</td>\n",
       "      <td>-0.127083</td>\n",
       "      <td>-0.156095</td>\n",
       "      <td>-0.259277</td>\n",
       "      <td>-1.195043</td>\n",
       "      <td>-0.329385</td>\n",
       "      <td>0.542695</td>\n",
       "      <td>-0.259849</td>\n",
       "      <td>0.725970</td>\n",
       "      <td>-0.343916</td>\n",
       "      <td>-0.069443</td>\n",
       "      <td>-0.210966</td>\n",
       "      <td>-0.195031</td>\n",
       "      <td>11.105836</td>\n",
       "      <td>-0.07085</td>\n",
       "      <td>-0.090768</td>\n",
       "      <td>-0.268545</td>\n",
       "      <td>-0.157994</td>\n",
       "    </tr>\n",
       "    <tr>\n",
       "      <th>4</th>\n",
       "      <td>-0.967613</td>\n",
       "      <td>3.315641</td>\n",
       "      <td>-0.702583</td>\n",
       "      <td>-0.364123</td>\n",
       "      <td>-0.250827</td>\n",
       "      <td>1.535559</td>\n",
       "      <td>0.949314</td>\n",
       "      <td>-0.246838</td>\n",
       "      <td>-0.454343</td>\n",
       "      <td>-0.335014</td>\n",
       "      <td>-0.256149</td>\n",
       "      <td>0.609005</td>\n",
       "      <td>-1.740931</td>\n",
       "      <td>-0.127083</td>\n",
       "      <td>-0.156095</td>\n",
       "      <td>-0.259277</td>\n",
       "      <td>0.836790</td>\n",
       "      <td>-0.329385</td>\n",
       "      <td>-1.842655</td>\n",
       "      <td>-0.259849</td>\n",
       "      <td>-1.377467</td>\n",
       "      <td>-0.343916</td>\n",
       "      <td>-0.069443</td>\n",
       "      <td>-0.210966</td>\n",
       "      <td>-0.195031</td>\n",
       "      <td>-0.090043</td>\n",
       "      <td>-0.07085</td>\n",
       "      <td>-0.090768</td>\n",
       "      <td>-0.268545</td>\n",
       "      <td>-0.157994</td>\n",
       "    </tr>\n",
       "  </tbody>\n",
       "</table>\n",
       "</div>"
      ],
      "text/plain": [
       "   age_of_driver  engine_capacity_cc  age_of_casualty    Sunday  Motorway  \\\n",
       "0       0.847503            0.055093         1.485194 -0.364123 -0.250827   \n",
       "1       0.000449            0.782456         1.378473  2.746327 -0.250827   \n",
       "2      -0.241567           -0.313692        -1.022746 -0.364123 -0.250827   \n",
       "3      -1.270132           -0.298723        -1.129466 -0.364123 -0.250827   \n",
       "4      -0.967613            3.315641        -0.702583 -0.364123 -0.250827   \n",
       "\n",
       "   Unclassified      30.0      50.0      60.0      70.0  \\\n",
       "0     -0.651229 -1.053392 -0.246838  2.200982 -0.335014   \n",
       "1     -0.651229  0.949314 -0.246838 -0.454343 -0.335014   \n",
       "2     -0.651229 -1.053392 -0.246838  2.200982 -0.335014   \n",
       "3      1.535559 -1.053392 -0.246838  2.200982 -0.335014   \n",
       "4      1.535559  0.949314 -0.246838 -0.454343 -0.335014   \n",
       "\n",
       "   Darkness - no lighting  Daylight       Car  Goods 7.5 tonnes mgw and over  \\\n",
       "0               -0.256149  0.609005  0.574405                      -0.127083   \n",
       "1               -0.256149 -1.642023  0.574405                      -0.127083   \n",
       "2               -0.256149  0.609005  0.574405                      -0.127083   \n",
       "3                3.903984 -1.642023  0.574405                      -0.127083   \n",
       "4               -0.256149  0.609005 -1.740931                      -0.127083   \n",
       "\n",
       "   Motorcycle over 500cc  Pedal cycle      Male  Small town  Urban area  \\\n",
       "0              -0.156095    -0.259277  0.836790   -0.329385    0.542695   \n",
       "1              -0.156095    -0.259277  0.836790   -0.329385    0.542695   \n",
       "2              -0.156095    -0.259277 -1.195043   -0.329385    0.542695   \n",
       "3              -0.156095    -0.259277 -1.195043   -0.329385    0.542695   \n",
       "4              -0.156095    -0.259277  0.836790   -0.329385   -1.842655   \n",
       "\n",
       "   Pedestrian  Car occupant   Cyclist  \\\n",
       "0   -0.259849     -1.377467 -0.343916   \n",
       "1   -0.259849      0.725970 -0.343916   \n",
       "2   -0.259849      0.725970 -0.343916   \n",
       "3   -0.259849      0.725970 -0.343916   \n",
       "4   -0.259849     -1.377467 -0.343916   \n",
       "\n",
       "   Goods vehicle (7.5 tonnes mgw and over) occupant  \\\n",
       "0                                         -0.069443   \n",
       "1                                         -0.069443   \n",
       "2                                         -0.069443   \n",
       "3                                         -0.069443   \n",
       "4                                         -0.069443   \n",
       "\n",
       "   Motorcycle 125cc and under rider or passenger  \\\n",
       "0                                      -0.210966   \n",
       "1                                      -0.210966   \n",
       "2                                      -0.210966   \n",
       "3                                      -0.210966   \n",
       "4                                      -0.210966   \n",
       "\n",
       "   Motorcycle over 500cc rider or passenger         01       03        05  \\\n",
       "0                                 -0.195031  -0.090043 -0.07085 -0.090768   \n",
       "1                                 -0.195031  -0.090043 -0.07085 -0.090768   \n",
       "2                                 -0.195031  -0.090043 -0.07085 -0.090768   \n",
       "3                                 -0.195031  11.105836 -0.07085 -0.090768   \n",
       "4                                 -0.195031  -0.090043 -0.07085 -0.090768   \n",
       "\n",
       "         08        22  \n",
       "0 -0.268545 -0.157994  \n",
       "1 -0.268545 -0.157994  \n",
       "2  3.723776 -0.157994  \n",
       "3 -0.268545 -0.157994  \n",
       "4 -0.268545 -0.157994  "
      ]
     },
     "execution_count": 12,
     "metadata": {},
     "output_type": "execute_result"
    }
   ],
   "source": [
    "x_train.head()"
   ]
  },
  {
   "cell_type": "code",
   "execution_count": 13,
   "metadata": {},
   "outputs": [
    {
     "data": {
      "text/plain": [
       "Text(0.5, 1.0, 'Distribution of Classes in the Data')"
      ]
     },
     "execution_count": 13,
     "metadata": {},
     "output_type": "execute_result"
    },
    {
     "data": {
      "image/png": "[encoded data removed]",
      "text/plain": [
       "<Figure size 432x288 with 1 Axes>"
      ]
     },
     "metadata": {},
     "output_type": "display_data"
    }
   ],
   "source": [
    "# set seaborn theme to be used\n",
    "sns.set_theme(style='darkgrid', palette='pastel')\n",
    "\n",
    "ax = sns.countplot(x='Fatal', data=y_train)\n",
    "ax.set_title('Distribution of Classes in the Data')"
   ]
  },
  {
   "cell_type": "code",
   "execution_count": 14,
   "metadata": {},
   "outputs": [],
   "source": [
    "# next we take a random sample of 30% from the dataset to further reduce the trainset\n",
    "\n",
    "# reduce the number of training instances to half\n",
    "x_train = x_train.sample(frac=0.3, random_state=7)\n",
    "\n",
    "# filter the y training set with the same rows as the reduced x set\n",
    "y_train = y_train.filter(items=x_train.index, axis=0)"
   ]
  },
  {
   "cell_type": "code",
   "execution_count": 15,
   "metadata": {},
   "outputs": [
    {
     "name": "stdout",
     "output_type": "stream",
     "text": [
      "(9343, 30) (9343, 1)\n"
     ]
    }
   ],
   "source": [
    "print(x_train.shape, y_train.shape)"
   ]
  },
  {
   "cell_type": "markdown",
   "metadata": {},
   "source": [
    "We now have:  \n",
    "- A more balanced dataset\n",
    "- Smaller, more manageable dataset to train our models on (with almost 10,000 records)\n"
   ]
  },
  {
   "cell_type": "markdown",
   "metadata": {},
   "source": [
    "## 4. Building the Models"
   ]
  },
  {
   "cell_type": "markdown",
   "metadata": {},
   "source": [
    "We will build and create the following methods below.\n",
    "\n",
    "1. Random Forests\n",
    "2. Support Vector Machines\n",
    "3. Logistic Regression\n",
    "4. ADABoost\n",
    "5. Multi-Layer Perceptron"
   ]
  },
  {
   "cell_type": "markdown",
   "metadata": {},
   "source": [
    "For all of our models:\n",
    "\n",
    "- We will use a GridSearch method to attempt to find the best hyperparameter combination\n",
    "- We will use a 10 fold cross-validation strategy in the gridsearch\n",
    "- Scoring will be based on the F1-Macro score."
   ]
  },
  {
   "cell_type": "markdown",
   "metadata": {},
   "source": [
    "### 4.1 The Baseline Model"
   ]
  },
  {
   "cell_type": "markdown",
   "metadata": {},
   "source": [
    "We will use a simple baseline of assuming all cases fit within the majority class as our baseline model. Given we have already balanced the data, the Y_train set has equal proportions of classes. However, we understand from earlier analysis that Non-Fatal is our majority class."
   ]
  },
  {
   "cell_type": "code",
   "execution_count": 16,
   "metadata": {},
   "outputs": [
    {
     "name": "stdout",
     "output_type": "stream",
     "text": [
      "(9343, 1)\n"
     ]
    }
   ],
   "source": [
    "# set the baseline prediction to be our majority class\n",
    "major_class = 'Non-Fatal'\n",
    "\n",
    "# set our prediction as an array in the same shape as the test set\n",
    "# we set it at the test set as our baseline will only be used to measure accuracy\n",
    "yhat_baseline = np.full((y_train.shape[0], 1), major_class)\n",
    "\n",
    "print(yhat_baseline.shape)\n"
   ]
  },
  {
   "cell_type": "code",
   "execution_count": 17,
   "metadata": {},
   "outputs": [
    {
     "data": {
      "image/png": "[encoded data removed]",
      "text/plain": [
       "<Figure size 360x360 with 1 Axes>"
      ]
     },
     "metadata": {},
     "output_type": "display_data"
    }
   ],
   "source": [
    "# now lets compute the accuracy of our predictions based on baseline\n",
    "from sklearn.metrics import accuracy_score\n",
    "from sklearn.metrics import balanced_accuracy_score\n",
    "from sklearn.metrics import f1_score\n",
    "\n",
    "from sklearn.metrics import confusion_matrix\n",
    "from sklearn.metrics import ConfusionMatrixDisplay\n",
    "\n",
    "# calculate the scores for each metric based on training dataset\n",
    "Accuracy_baseline = accuracy_score(y_train, yhat_baseline, normalize=True)\n",
    "Balanced_baseline = balanced_accuracy_score(y_train, yhat_baseline)\n",
    "F1_baseline =  f1_score(y_train, yhat_baseline, pos_label='Fatal')\n",
    "\n",
    "# construct a dataframe with baseline accuracy scores\n",
    "baseline_metrics = pd.DataFrame({\n",
    "                    'Accuracy Score': Accuracy_baseline,\n",
    "                    'Balanced Accuracy': Balanced_baseline,\n",
    "                    'F1 Score': F1_baseline,\n",
    "                    \n",
    "}, index=[0]).sort_index()\n",
    "\n",
    "\n",
    "# visualize our accuracy scores\n",
    "ax = sns.catplot(data=baseline_metrics, kind='bar')"
   ]
  },
  {
   "cell_type": "code",
   "execution_count": 18,
   "metadata": {},
   "outputs": [
    {
     "data": {
      "image/png": "[encoded data removed]",
      "text/plain": [
       "<Figure size 432x288 with 2 Axes>"
      ]
     },
     "metadata": {},
     "output_type": "display_data"
    }
   ],
   "source": [
    "# plot the prediction\n",
    "baseline_cm = confusion_matrix(y_train, yhat_baseline, labels=y_train.Fatal.unique())\n",
    "baseline_cm_disp = ConfusionMatrixDisplay(confusion_matrix=baseline_cm, display_labels=y_train.Fatal.unique())\n",
    "\n",
    "baseline_cm_disp.plot()\n",
    "plt.grid(False)\n",
    "plt.show()"
   ]
  },
  {
   "cell_type": "markdown",
   "metadata": {},
   "source": [
    "The above plot illustrates the issue with using standard accuracy measures for our problem. Rather than being 'right' all or most of the time, we are more concerned with getting Fatal accidents correct more often. As we wish to take preventive measures for Fatal accidents, it's important that our metrics are also geared towards that purpose.\n",
    "\n",
    "- We are more concerned with understanding and Predicting Fatal cases than creating a general prediction model\n",
    "- With that aim in mind, metrics such as F1_Score, and Precision / Recall are much more applicable as performance evaluation metrics for this project. \n",
    "- Standard accuracy scores would provide misleading results with Class Imbalances."
   ]
  },
  {
   "cell_type": "code",
   "execution_count": 19,
   "metadata": {},
   "outputs": [],
   "source": [
    "# We define the following complementary function that will be called continously as we build our models\n",
    "\n",
    "# define the function to print the reults of a grid search in tabular format.\n",
    "def print_cv_results(grid_search, col_width=100):\n",
    "    \"\"\"Given a grid search object, print a table with the \n",
    "    cross-validation results\n",
    "    \"\"\"\n",
    "    results = pd.DataFrame(grid_search.cv_results_\n",
    "                             )[['params', 'mean_train_score', 'mean_test_score']]\n",
    "    results[\"diff, %\"] = 100*(results[\"mean_train_score\"]-results[\"mean_test_score\"]\n",
    "                                                         )/results[\"mean_train_score\"]\n",
    "\n",
    "    pd.set_option('display.max_colwidth', col_width)\n",
    "    display(results.sort_values('mean_test_score', ascending=False))"
   ]
  },
  {
   "cell_type": "markdown",
   "metadata": {},
   "source": [
    "### 4.2 Random Forest"
   ]
  },
  {
   "cell_type": "code",
   "execution_count": 20,
   "metadata": {},
   "outputs": [
    {
     "data": {
      "text/plain": [
       "GridSearchCV(cv=10, estimator=RandomForestClassifier(random_state=7),\n",
       "             param_grid=[{'max_depth': [10, 5, None],\n",
       "                          'n_estimators': [100, 250, 500]}],\n",
       "             return_train_score=True, scoring='f1_macro')"
      ]
     },
     "execution_count": 20,
     "metadata": {},
     "output_type": "execute_result"
    }
   ],
   "source": [
    "# import the GridSearch Class\n",
    "from sklearn.model_selection import GridSearchCV\n",
    "from sklearnex.ensemble import RandomForestClassifier\n",
    "\n",
    "# build the ML pipeline\n",
    "rf_classifier = RandomForestClassifier(random_state=7)\n",
    "\n",
    "# set the different sampling and hyperparameter combinations\n",
    "param_grid = [\n",
    "    {\n",
    "        'n_estimators': [100, 250, 500],\n",
    "        'max_depth': [10, 5, None]\n",
    "    },\n",
    "]\n",
    "\n",
    "# define the grid search parameters\n",
    "rf_grid_search = GridSearchCV(rf_classifier, param_grid, cv=10, \n",
    "                              scoring='f1_macro',\n",
    "                              return_train_score=True)\n",
    "\n",
    "# fit and train our model based on the grid search defined above\n",
    "# we fit the model on our reduced form x training set\n",
    "\n",
    "rf_grid_search.fit(x_train, y_train)"
   ]
  },
  {
   "cell_type": "code",
   "execution_count": 21,
   "metadata": {},
   "outputs": [
    {
     "data": {
      "text/html": [
       "<div>\n",
       "<style scoped>\n",
       "    .dataframe tbody tr th:only-of-type {\n",
       "        vertical-align: middle;\n",
       "    }\n",
       "\n",
       "    .dataframe tbody tr th {\n",
       "        vertical-align: top;\n",
       "    }\n",
       "\n",
       "    .dataframe thead th {\n",
       "        text-align: right;\n",
       "    }\n",
       "</style>\n",
       "<table border=\"1\" class=\"dataframe\">\n",
       "  <thead>\n",
       "    <tr style=\"text-align: right;\">\n",
       "      <th></th>\n",
       "      <th>params</th>\n",
       "      <th>mean_train_score</th>\n",
       "      <th>mean_test_score</th>\n",
       "      <th>diff, %</th>\n",
       "    </tr>\n",
       "  </thead>\n",
       "  <tbody>\n",
       "    <tr>\n",
       "      <th>7</th>\n",
       "      <td>{'max_depth': None, 'n_estimators': 250}</td>\n",
       "      <td>0.998275</td>\n",
       "      <td>0.728106</td>\n",
       "      <td>27.063597</td>\n",
       "    </tr>\n",
       "    <tr>\n",
       "      <th>8</th>\n",
       "      <td>{'max_depth': None, 'n_estimators': 500}</td>\n",
       "      <td>0.998287</td>\n",
       "      <td>0.727679</td>\n",
       "      <td>27.107270</td>\n",
       "    </tr>\n",
       "    <tr>\n",
       "      <th>6</th>\n",
       "      <td>{'max_depth': None, 'n_estimators': 100}</td>\n",
       "      <td>0.998073</td>\n",
       "      <td>0.727133</td>\n",
       "      <td>27.146296</td>\n",
       "    </tr>\n",
       "    <tr>\n",
       "      <th>1</th>\n",
       "      <td>{'max_depth': 10, 'n_estimators': 250}</td>\n",
       "      <td>0.795636</td>\n",
       "      <td>0.725845</td>\n",
       "      <td>8.771829</td>\n",
       "    </tr>\n",
       "    <tr>\n",
       "      <th>2</th>\n",
       "      <td>{'max_depth': 10, 'n_estimators': 500}</td>\n",
       "      <td>0.794876</td>\n",
       "      <td>0.725433</td>\n",
       "      <td>8.736237</td>\n",
       "    </tr>\n",
       "    <tr>\n",
       "      <th>0</th>\n",
       "      <td>{'max_depth': 10, 'n_estimators': 100}</td>\n",
       "      <td>0.795702</td>\n",
       "      <td>0.724993</td>\n",
       "      <td>8.886433</td>\n",
       "    </tr>\n",
       "    <tr>\n",
       "      <th>4</th>\n",
       "      <td>{'max_depth': 5, 'n_estimators': 250}</td>\n",
       "      <td>0.721632</td>\n",
       "      <td>0.712128</td>\n",
       "      <td>1.316938</td>\n",
       "    </tr>\n",
       "    <tr>\n",
       "      <th>5</th>\n",
       "      <td>{'max_depth': 5, 'n_estimators': 500}</td>\n",
       "      <td>0.721602</td>\n",
       "      <td>0.711848</td>\n",
       "      <td>1.351741</td>\n",
       "    </tr>\n",
       "    <tr>\n",
       "      <th>3</th>\n",
       "      <td>{'max_depth': 5, 'n_estimators': 100}</td>\n",
       "      <td>0.722146</td>\n",
       "      <td>0.711391</td>\n",
       "      <td>1.489425</td>\n",
       "    </tr>\n",
       "  </tbody>\n",
       "</table>\n",
       "</div>"
      ],
      "text/plain": [
       "                                     params  mean_train_score  \\\n",
       "7  {'max_depth': None, 'n_estimators': 250}          0.998275   \n",
       "8  {'max_depth': None, 'n_estimators': 500}          0.998287   \n",
       "6  {'max_depth': None, 'n_estimators': 100}          0.998073   \n",
       "1    {'max_depth': 10, 'n_estimators': 250}          0.795636   \n",
       "2    {'max_depth': 10, 'n_estimators': 500}          0.794876   \n",
       "0    {'max_depth': 10, 'n_estimators': 100}          0.795702   \n",
       "4     {'max_depth': 5, 'n_estimators': 250}          0.721632   \n",
       "5     {'max_depth': 5, 'n_estimators': 500}          0.721602   \n",
       "3     {'max_depth': 5, 'n_estimators': 100}          0.722146   \n",
       "\n",
       "   mean_test_score    diff, %  \n",
       "7         0.728106  27.063597  \n",
       "8         0.727679  27.107270  \n",
       "6         0.727133  27.146296  \n",
       "1         0.725845   8.771829  \n",
       "2         0.725433   8.736237  \n",
       "0         0.724993   8.886433  \n",
       "4         0.712128   1.316938  \n",
       "5         0.711848   1.351741  \n",
       "3         0.711391   1.489425  "
      ]
     },
     "metadata": {},
     "output_type": "display_data"
    }
   ],
   "source": [
    "# print the results of our grid search\n",
    "print_cv_results(rf_grid_search, col_width=100)"
   ]
  },
  {
   "cell_type": "code",
   "execution_count": 22,
   "metadata": {},
   "outputs": [],
   "source": [
    "# save the best logistic regression model to a variable\n",
    "best_rf = rf_grid_search.best_estimator_"
   ]
  },
  {
   "cell_type": "markdown",
   "metadata": {},
   "source": [
    "We can observe from the above results that overfitting increases as maximum depth increases, which is to be expected as it means the trees will split more as it fits more to the data it sees in order to reduce error. "
   ]
  },
  {
   "cell_type": "markdown",
   "metadata": {},
   "source": [
    "### 4.3 Support Vector Machines"
   ]
  },
  {
   "cell_type": "code",
   "execution_count": 23,
   "metadata": {},
   "outputs": [
    {
     "data": {
      "text/plain": [
       "GridSearchCV(cv=10, estimator=SVC(kernel='linear', random_state=7),\n",
       "             param_grid=[{'C': [0.1, 1, 10, 100]}], return_train_score=True,\n",
       "             scoring='f1_macro')"
      ]
     },
     "execution_count": 23,
     "metadata": {},
     "output_type": "execute_result"
    }
   ],
   "source": [
    "# import the Support Vector Classifier\n",
    "from sklearnex.svm import SVC\n",
    "\n",
    "# instantiate the SV classifier\n",
    "# we use linear kernel as this will allow us to acquire feature significance later on\n",
    "svm_classifier = SVC(random_state=7, kernel='linear')\n",
    "\n",
    "\n",
    "# set the different sampling and hyperparameter combinations\n",
    "param_grid = [\n",
    "    {\n",
    "        'C': [0.1, 1, 10, 100],\n",
    "    },\n",
    "]\n",
    "\n",
    "# define the grid search parameters\n",
    "# we use macro scores as it does not become biased due to class imbalances.\n",
    "svm_grid_search = GridSearchCV(svm_classifier, param_grid, cv=10, \n",
    "                              scoring='f1_macro',\n",
    "                              return_train_score=True)\n",
    "\n",
    "\n",
    "svm_grid_search.fit(x_train, y_train)"
   ]
  },
  {
   "cell_type": "code",
   "execution_count": 24,
   "metadata": {},
   "outputs": [
    {
     "data": {
      "text/html": [
       "<div>\n",
       "<style scoped>\n",
       "    .dataframe tbody tr th:only-of-type {\n",
       "        vertical-align: middle;\n",
       "    }\n",
       "\n",
       "    .dataframe tbody tr th {\n",
       "        vertical-align: top;\n",
       "    }\n",
       "\n",
       "    .dataframe thead th {\n",
       "        text-align: right;\n",
       "    }\n",
       "</style>\n",
       "<table border=\"1\" class=\"dataframe\">\n",
       "  <thead>\n",
       "    <tr style=\"text-align: right;\">\n",
       "      <th></th>\n",
       "      <th>params</th>\n",
       "      <th>mean_train_score</th>\n",
       "      <th>mean_test_score</th>\n",
       "      <th>diff, %</th>\n",
       "    </tr>\n",
       "  </thead>\n",
       "  <tbody>\n",
       "    <tr>\n",
       "      <th>0</th>\n",
       "      <td>{'C': 0.1}</td>\n",
       "      <td>0.688695</td>\n",
       "      <td>0.686397</td>\n",
       "      <td>0.333746</td>\n",
       "    </tr>\n",
       "    <tr>\n",
       "      <th>1</th>\n",
       "      <td>{'C': 1}</td>\n",
       "      <td>0.688695</td>\n",
       "      <td>0.686397</td>\n",
       "      <td>0.333746</td>\n",
       "    </tr>\n",
       "    <tr>\n",
       "      <th>2</th>\n",
       "      <td>{'C': 10}</td>\n",
       "      <td>0.688695</td>\n",
       "      <td>0.686397</td>\n",
       "      <td>0.333746</td>\n",
       "    </tr>\n",
       "    <tr>\n",
       "      <th>3</th>\n",
       "      <td>{'C': 100}</td>\n",
       "      <td>0.688695</td>\n",
       "      <td>0.686397</td>\n",
       "      <td>0.333746</td>\n",
       "    </tr>\n",
       "  </tbody>\n",
       "</table>\n",
       "</div>"
      ],
      "text/plain": [
       "       params  mean_train_score  mean_test_score   diff, %\n",
       "0  {'C': 0.1}          0.688695         0.686397  0.333746\n",
       "1    {'C': 1}          0.688695         0.686397  0.333746\n",
       "2   {'C': 10}          0.688695         0.686397  0.333746\n",
       "3  {'C': 100}          0.688695         0.686397  0.333746"
      ]
     },
     "metadata": {},
     "output_type": "display_data"
    }
   ],
   "source": [
    "print_cv_results(svm_grid_search, col_width=100)"
   ]
  },
  {
   "cell_type": "code",
   "execution_count": 25,
   "metadata": {},
   "outputs": [],
   "source": [
    "# save the best logistic regression model to a variable\n",
    "best_svm = svm_grid_search.best_estimator_"
   ]
  },
  {
   "cell_type": "markdown",
   "metadata": {},
   "source": [
    "We notice an interesting phenomenom in our Support Vector Classifier where the tuning of the hyperparameter does not give us any different results. Meaning that the margin for misclassifications does not matter in our model. Which is something we may need to address. Perhaps it may be a result of the linear kernel used above. We will try the same parameters with a sigmoid kernel to see if results vary"
   ]
  },
  {
   "cell_type": "markdown",
   "metadata": {},
   "source": [
    "### 4.4 Logistic Regression"
   ]
  },
  {
   "cell_type": "code",
   "execution_count": 26,
   "metadata": {},
   "outputs": [
    {
     "data": {
      "text/plain": [
       "GridSearchCV(cv=10,\n",
       "             estimator=LogisticRegression(penalty='l1', random_state=7,\n",
       "                                          solver='saga'),\n",
       "             param_grid=[{'C': [0.01, 0.1, 1, 10, 100]}],\n",
       "             return_train_score=True, scoring='f1_macro')"
      ]
     },
     "execution_count": 26,
     "metadata": {},
     "output_type": "execute_result"
    }
   ],
   "source": [
    "from sklearnex.linear_model import LogisticRegression\n",
    "\n",
    "# instantiate logistic regression with l1 penalty to aid in feature selection.\n",
    "l_regression = LogisticRegression(random_state=7, penalty='l1', solver='saga')\n",
    "\n",
    "# set the different sampling and hyperparameter combinations\n",
    "param_grid = [\n",
    "    {   \n",
    "        'C': [0.01, 0.1, 1, 10, 100],\n",
    "    },\n",
    "]\n",
    "\n",
    "# define the grid search parameters\n",
    "# we use macro scores as it does not become biased due to class imbalances.\n",
    "lr_grid_search = GridSearchCV(l_regression, param_grid, cv=10, \n",
    "                              scoring='f1_macro',\n",
    "                              return_train_score=True)\n",
    "\n",
    "\n",
    "lr_grid_search.fit(x_train, y_train)"
   ]
  },
  {
   "cell_type": "code",
   "execution_count": 27,
   "metadata": {},
   "outputs": [
    {
     "data": {
      "text/html": [
       "<div>\n",
       "<style scoped>\n",
       "    .dataframe tbody tr th:only-of-type {\n",
       "        vertical-align: middle;\n",
       "    }\n",
       "\n",
       "    .dataframe tbody tr th {\n",
       "        vertical-align: top;\n",
       "    }\n",
       "\n",
       "    .dataframe thead th {\n",
       "        text-align: right;\n",
       "    }\n",
       "</style>\n",
       "<table border=\"1\" class=\"dataframe\">\n",
       "  <thead>\n",
       "    <tr style=\"text-align: right;\">\n",
       "      <th></th>\n",
       "      <th>params</th>\n",
       "      <th>mean_train_score</th>\n",
       "      <th>mean_test_score</th>\n",
       "      <th>diff, %</th>\n",
       "    </tr>\n",
       "  </thead>\n",
       "  <tbody>\n",
       "    <tr>\n",
       "      <th>1</th>\n",
       "      <td>{'C': 0.1}</td>\n",
       "      <td>0.718185</td>\n",
       "      <td>0.715926</td>\n",
       "      <td>0.314475</td>\n",
       "    </tr>\n",
       "    <tr>\n",
       "      <th>4</th>\n",
       "      <td>{'C': 100}</td>\n",
       "      <td>0.718331</td>\n",
       "      <td>0.715703</td>\n",
       "      <td>0.365863</td>\n",
       "    </tr>\n",
       "    <tr>\n",
       "      <th>3</th>\n",
       "      <td>{'C': 10}</td>\n",
       "      <td>0.718331</td>\n",
       "      <td>0.715491</td>\n",
       "      <td>0.395312</td>\n",
       "    </tr>\n",
       "    <tr>\n",
       "      <th>2</th>\n",
       "      <td>{'C': 1}</td>\n",
       "      <td>0.718355</td>\n",
       "      <td>0.715165</td>\n",
       "      <td>0.444098</td>\n",
       "    </tr>\n",
       "    <tr>\n",
       "      <th>0</th>\n",
       "      <td>{'C': 0.01}</td>\n",
       "      <td>0.712944</td>\n",
       "      <td>0.710281</td>\n",
       "      <td>0.373548</td>\n",
       "    </tr>\n",
       "  </tbody>\n",
       "</table>\n",
       "</div>"
      ],
      "text/plain": [
       "        params  mean_train_score  mean_test_score   diff, %\n",
       "1   {'C': 0.1}          0.718185         0.715926  0.314475\n",
       "4   {'C': 100}          0.718331         0.715703  0.365863\n",
       "3    {'C': 10}          0.718331         0.715491  0.395312\n",
       "2     {'C': 1}          0.718355         0.715165  0.444098\n",
       "0  {'C': 0.01}          0.712944         0.710281  0.373548"
      ]
     },
     "metadata": {},
     "output_type": "display_data"
    }
   ],
   "source": [
    "print_cv_results(lr_grid_search, col_width=100)"
   ]
  },
  {
   "cell_type": "code",
   "execution_count": 28,
   "metadata": {},
   "outputs": [],
   "source": [
    "# save the best logistic regression model to a variable\n",
    "best_lr = lr_grid_search.best_estimator_"
   ]
  },
  {
   "cell_type": "markdown",
   "metadata": {},
   "source": [
    "The results of our logistic regression are also encouraging. With 71% mean test score on average and good generalization"
   ]
  },
  {
   "cell_type": "markdown",
   "metadata": {},
   "source": [
    "### 4.5 ADA-Boost"
   ]
  },
  {
   "cell_type": "code",
   "execution_count": 29,
   "metadata": {},
   "outputs": [
    {
     "data": {
      "text/plain": [
       "GridSearchCV(cv=10, estimator=AdaBoostClassifier(random_state=7),\n",
       "             param_grid=[{'learning_rate': [0.01, 0.1, 0.5, 1],\n",
       "                          'n_estimators': [5, 10, 25, 50]}],\n",
       "             return_train_score=True, scoring='f1_macro')"
      ]
     },
     "execution_count": 29,
     "metadata": {},
     "output_type": "execute_result"
    }
   ],
   "source": [
    "from sklearn.ensemble import AdaBoostClassifier\n",
    "\n",
    "\n",
    "# instantiate logistic regression with l1 penalty to aid in feature selection.\n",
    "ada_clf = AdaBoostClassifier(random_state=7)\n",
    "\n",
    "# set the different sampling and hyperparameter combinations\n",
    "param_grid = [\n",
    "    {   \n",
    "        'n_estimators': [5, 10, 25, 50],\n",
    "        'learning_rate': [0.01, 0.1, 0.5, 1],\n",
    "    },\n",
    "]\n",
    "\n",
    "# define the grid search parameters\n",
    "# we use macro scores as it does not become biased due to class imbalances.\n",
    "ada_grid_search = GridSearchCV(ada_clf, param_grid, cv=10, \n",
    "                              scoring='f1_macro',\n",
    "                              return_train_score=True)\n",
    "\n",
    "\n",
    "ada_grid_search.fit(x_train, y_train)"
   ]
  },
  {
   "cell_type": "code",
   "execution_count": 30,
   "metadata": {},
   "outputs": [
    {
     "data": {
      "text/html": [
       "<div>\n",
       "<style scoped>\n",
       "    .dataframe tbody tr th:only-of-type {\n",
       "        vertical-align: middle;\n",
       "    }\n",
       "\n",
       "    .dataframe tbody tr th {\n",
       "        vertical-align: top;\n",
       "    }\n",
       "\n",
       "    .dataframe thead th {\n",
       "        text-align: right;\n",
       "    }\n",
       "</style>\n",
       "<table border=\"1\" class=\"dataframe\">\n",
       "  <thead>\n",
       "    <tr style=\"text-align: right;\">\n",
       "      <th></th>\n",
       "      <th>params</th>\n",
       "      <th>mean_train_score</th>\n",
       "      <th>mean_test_score</th>\n",
       "      <th>diff, %</th>\n",
       "    </tr>\n",
       "  </thead>\n",
       "  <tbody>\n",
       "    <tr>\n",
       "      <th>11</th>\n",
       "      <td>{'learning_rate': 0.5, 'n_estimators': 50}</td>\n",
       "      <td>0.721866</td>\n",
       "      <td>0.718023</td>\n",
       "      <td>0.532334</td>\n",
       "    </tr>\n",
       "    <tr>\n",
       "      <th>15</th>\n",
       "      <td>{'learning_rate': 1, 'n_estimators': 50}</td>\n",
       "      <td>0.722986</td>\n",
       "      <td>0.718019</td>\n",
       "      <td>0.687030</td>\n",
       "    </tr>\n",
       "    <tr>\n",
       "      <th>14</th>\n",
       "      <td>{'learning_rate': 1, 'n_estimators': 25}</td>\n",
       "      <td>0.715967</td>\n",
       "      <td>0.714549</td>\n",
       "      <td>0.198085</td>\n",
       "    </tr>\n",
       "    <tr>\n",
       "      <th>10</th>\n",
       "      <td>{'learning_rate': 0.5, 'n_estimators': 25}</td>\n",
       "      <td>0.716316</td>\n",
       "      <td>0.712589</td>\n",
       "      <td>0.520260</td>\n",
       "    </tr>\n",
       "    <tr>\n",
       "      <th>9</th>\n",
       "      <td>{'learning_rate': 0.5, 'n_estimators': 10}</td>\n",
       "      <td>0.708691</td>\n",
       "      <td>0.707568</td>\n",
       "      <td>0.158454</td>\n",
       "    </tr>\n",
       "    <tr>\n",
       "      <th>7</th>\n",
       "      <td>{'learning_rate': 0.1, 'n_estimators': 50}</td>\n",
       "      <td>0.704025</td>\n",
       "      <td>0.702309</td>\n",
       "      <td>0.243798</td>\n",
       "    </tr>\n",
       "    <tr>\n",
       "      <th>13</th>\n",
       "      <td>{'learning_rate': 1, 'n_estimators': 10}</td>\n",
       "      <td>0.702190</td>\n",
       "      <td>0.699149</td>\n",
       "      <td>0.433073</td>\n",
       "    </tr>\n",
       "    <tr>\n",
       "      <th>6</th>\n",
       "      <td>{'learning_rate': 0.1, 'n_estimators': 25}</td>\n",
       "      <td>0.687339</td>\n",
       "      <td>0.685728</td>\n",
       "      <td>0.234490</td>\n",
       "    </tr>\n",
       "    <tr>\n",
       "      <th>12</th>\n",
       "      <td>{'learning_rate': 1, 'n_estimators': 5}</td>\n",
       "      <td>0.686650</td>\n",
       "      <td>0.684752</td>\n",
       "      <td>0.276333</td>\n",
       "    </tr>\n",
       "    <tr>\n",
       "      <th>8</th>\n",
       "      <td>{'learning_rate': 0.5, 'n_estimators': 5}</td>\n",
       "      <td>0.683854</td>\n",
       "      <td>0.682181</td>\n",
       "      <td>0.244786</td>\n",
       "    </tr>\n",
       "    <tr>\n",
       "      <th>0</th>\n",
       "      <td>{'learning_rate': 0.01, 'n_estimators': 5}</td>\n",
       "      <td>0.646567</td>\n",
       "      <td>0.646456</td>\n",
       "      <td>0.017157</td>\n",
       "    </tr>\n",
       "    <tr>\n",
       "      <th>1</th>\n",
       "      <td>{'learning_rate': 0.01, 'n_estimators': 10}</td>\n",
       "      <td>0.646567</td>\n",
       "      <td>0.646456</td>\n",
       "      <td>0.017157</td>\n",
       "    </tr>\n",
       "    <tr>\n",
       "      <th>2</th>\n",
       "      <td>{'learning_rate': 0.01, 'n_estimators': 25}</td>\n",
       "      <td>0.646567</td>\n",
       "      <td>0.646456</td>\n",
       "      <td>0.017157</td>\n",
       "    </tr>\n",
       "    <tr>\n",
       "      <th>3</th>\n",
       "      <td>{'learning_rate': 0.01, 'n_estimators': 50}</td>\n",
       "      <td>0.646567</td>\n",
       "      <td>0.646456</td>\n",
       "      <td>0.017157</td>\n",
       "    </tr>\n",
       "    <tr>\n",
       "      <th>4</th>\n",
       "      <td>{'learning_rate': 0.1, 'n_estimators': 5}</td>\n",
       "      <td>0.646567</td>\n",
       "      <td>0.646456</td>\n",
       "      <td>0.017157</td>\n",
       "    </tr>\n",
       "    <tr>\n",
       "      <th>5</th>\n",
       "      <td>{'learning_rate': 0.1, 'n_estimators': 10}</td>\n",
       "      <td>0.646567</td>\n",
       "      <td>0.646456</td>\n",
       "      <td>0.017157</td>\n",
       "    </tr>\n",
       "  </tbody>\n",
       "</table>\n",
       "</div>"
      ],
      "text/plain": [
       "                                         params  mean_train_score  \\\n",
       "11   {'learning_rate': 0.5, 'n_estimators': 50}          0.721866   \n",
       "15     {'learning_rate': 1, 'n_estimators': 50}          0.722986   \n",
       "14     {'learning_rate': 1, 'n_estimators': 25}          0.715967   \n",
       "10   {'learning_rate': 0.5, 'n_estimators': 25}          0.716316   \n",
       "9    {'learning_rate': 0.5, 'n_estimators': 10}          0.708691   \n",
       "7    {'learning_rate': 0.1, 'n_estimators': 50}          0.704025   \n",
       "13     {'learning_rate': 1, 'n_estimators': 10}          0.702190   \n",
       "6    {'learning_rate': 0.1, 'n_estimators': 25}          0.687339   \n",
       "12      {'learning_rate': 1, 'n_estimators': 5}          0.686650   \n",
       "8     {'learning_rate': 0.5, 'n_estimators': 5}          0.683854   \n",
       "0    {'learning_rate': 0.01, 'n_estimators': 5}          0.646567   \n",
       "1   {'learning_rate': 0.01, 'n_estimators': 10}          0.646567   \n",
       "2   {'learning_rate': 0.01, 'n_estimators': 25}          0.646567   \n",
       "3   {'learning_rate': 0.01, 'n_estimators': 50}          0.646567   \n",
       "4     {'learning_rate': 0.1, 'n_estimators': 5}          0.646567   \n",
       "5    {'learning_rate': 0.1, 'n_estimators': 10}          0.646567   \n",
       "\n",
       "    mean_test_score   diff, %  \n",
       "11         0.718023  0.532334  \n",
       "15         0.718019  0.687030  \n",
       "14         0.714549  0.198085  \n",
       "10         0.712589  0.520260  \n",
       "9          0.707568  0.158454  \n",
       "7          0.702309  0.243798  \n",
       "13         0.699149  0.433073  \n",
       "6          0.685728  0.234490  \n",
       "12         0.684752  0.276333  \n",
       "8          0.682181  0.244786  \n",
       "0          0.646456  0.017157  \n",
       "1          0.646456  0.017157  \n",
       "2          0.646456  0.017157  \n",
       "3          0.646456  0.017157  \n",
       "4          0.646456  0.017157  \n",
       "5          0.646456  0.017157  "
      ]
     },
     "metadata": {},
     "output_type": "display_data"
    }
   ],
   "source": [
    "print_cv_results(ada_grid_search, col_width=100)"
   ]
  },
  {
   "cell_type": "code",
   "execution_count": 31,
   "metadata": {},
   "outputs": [],
   "source": [
    "best_ada = ada_grid_search.best_estimator_"
   ]
  },
  {
   "cell_type": "markdown",
   "metadata": {},
   "source": [
    "The best ADA boost method performs better with a higher learning rate as well as estimators count. All of our models including the best one show good generalization and good test scores"
   ]
  },
  {
   "cell_type": "markdown",
   "metadata": {},
   "source": [
    "### 4.6 Multi-Layer Perceptron (Neural Network)"
   ]
  },
  {
   "cell_type": "code",
   "execution_count": 32,
   "metadata": {},
   "outputs": [
    {
     "data": {
      "text/plain": [
       "GridSearchCV(cv=10, estimator=MLPClassifier(random_state=7, solver='lbfgs'),\n",
       "             param_grid=[{'activation': ['logistic', 'identity'],\n",
       "                          'alpha': [0.001, 0.01, 0.1, 1]}],\n",
       "             return_train_score=True, scoring='f1_macro')"
      ]
     },
     "execution_count": 32,
     "metadata": {},
     "output_type": "execute_result"
    }
   ],
   "source": [
    "# import the MLPClassifier class\n",
    "from sklearn.neural_network import MLPClassifier\n",
    "\n",
    "# instantiate our MLPClassifier\n",
    "Mlpclassifier = MLPClassifier(solver='lbfgs', random_state=7)\n",
    "\n",
    "# define the grid search parameters\n",
    "param_grid = [\n",
    "    {   \n",
    "        'alpha': [0.001 ,0.01, 0.1, 1],\n",
    "        'activation': ['logistic', 'identity'],\n",
    "    },\n",
    "]\n",
    "\n",
    "mlp_grid_search = GridSearchCV(Mlpclassifier, param_grid, cv=10, \n",
    "                              scoring='f1_macro',\n",
    "                              return_train_score=True)\n",
    "\n",
    "# fit the neural network to our data\n",
    "mlp_grid_search.fit(x_train, y_train)"
   ]
  },
  {
   "cell_type": "code",
   "execution_count": 33,
   "metadata": {},
   "outputs": [
    {
     "data": {
      "text/html": [
       "<div>\n",
       "<style scoped>\n",
       "    .dataframe tbody tr th:only-of-type {\n",
       "        vertical-align: middle;\n",
       "    }\n",
       "\n",
       "    .dataframe tbody tr th {\n",
       "        vertical-align: top;\n",
       "    }\n",
       "\n",
       "    .dataframe thead th {\n",
       "        text-align: right;\n",
       "    }\n",
       "</style>\n",
       "<table border=\"1\" class=\"dataframe\">\n",
       "  <thead>\n",
       "    <tr style=\"text-align: right;\">\n",
       "      <th></th>\n",
       "      <th>params</th>\n",
       "      <th>mean_train_score</th>\n",
       "      <th>mean_test_score</th>\n",
       "      <th>diff, %</th>\n",
       "    </tr>\n",
       "  </thead>\n",
       "  <tbody>\n",
       "    <tr>\n",
       "      <th>7</th>\n",
       "      <td>{'activation': 'identity', 'alpha': 1}</td>\n",
       "      <td>0.718319</td>\n",
       "      <td>0.715596</td>\n",
       "      <td>0.379099</td>\n",
       "    </tr>\n",
       "    <tr>\n",
       "      <th>4</th>\n",
       "      <td>{'activation': 'identity', 'alpha': 0.001}</td>\n",
       "      <td>0.718450</td>\n",
       "      <td>0.715383</td>\n",
       "      <td>0.426902</td>\n",
       "    </tr>\n",
       "    <tr>\n",
       "      <th>5</th>\n",
       "      <td>{'activation': 'identity', 'alpha': 0.01}</td>\n",
       "      <td>0.718438</td>\n",
       "      <td>0.715383</td>\n",
       "      <td>0.425261</td>\n",
       "    </tr>\n",
       "    <tr>\n",
       "      <th>6</th>\n",
       "      <td>{'activation': 'identity', 'alpha': 0.1}</td>\n",
       "      <td>0.718438</td>\n",
       "      <td>0.715383</td>\n",
       "      <td>0.425261</td>\n",
       "    </tr>\n",
       "    <tr>\n",
       "      <th>3</th>\n",
       "      <td>{'activation': 'logistic', 'alpha': 1}</td>\n",
       "      <td>0.796283</td>\n",
       "      <td>0.709490</td>\n",
       "      <td>10.899840</td>\n",
       "    </tr>\n",
       "    <tr>\n",
       "      <th>2</th>\n",
       "      <td>{'activation': 'logistic', 'alpha': 0.1}</td>\n",
       "      <td>0.823474</td>\n",
       "      <td>0.699325</td>\n",
       "      <td>15.076346</td>\n",
       "    </tr>\n",
       "    <tr>\n",
       "      <th>0</th>\n",
       "      <td>{'activation': 'logistic', 'alpha': 0.001}</td>\n",
       "      <td>0.830845</td>\n",
       "      <td>0.697030</td>\n",
       "      <td>16.105923</td>\n",
       "    </tr>\n",
       "    <tr>\n",
       "      <th>1</th>\n",
       "      <td>{'activation': 'logistic', 'alpha': 0.01}</td>\n",
       "      <td>0.828674</td>\n",
       "      <td>0.696708</td>\n",
       "      <td>15.924948</td>\n",
       "    </tr>\n",
       "  </tbody>\n",
       "</table>\n",
       "</div>"
      ],
      "text/plain": [
       "                                       params  mean_train_score  \\\n",
       "7      {'activation': 'identity', 'alpha': 1}          0.718319   \n",
       "4  {'activation': 'identity', 'alpha': 0.001}          0.718450   \n",
       "5   {'activation': 'identity', 'alpha': 0.01}          0.718438   \n",
       "6    {'activation': 'identity', 'alpha': 0.1}          0.718438   \n",
       "3      {'activation': 'logistic', 'alpha': 1}          0.796283   \n",
       "2    {'activation': 'logistic', 'alpha': 0.1}          0.823474   \n",
       "0  {'activation': 'logistic', 'alpha': 0.001}          0.830845   \n",
       "1   {'activation': 'logistic', 'alpha': 0.01}          0.828674   \n",
       "\n",
       "   mean_test_score    diff, %  \n",
       "7         0.715596   0.379099  \n",
       "4         0.715383   0.426902  \n",
       "5         0.715383   0.425261  \n",
       "6         0.715383   0.425261  \n",
       "3         0.709490  10.899840  \n",
       "2         0.699325  15.076346  \n",
       "0         0.697030  16.105923  \n",
       "1         0.696708  15.924948  "
      ]
     },
     "metadata": {},
     "output_type": "display_data"
    }
   ],
   "source": [
    "print_cv_results(mlp_grid_search, col_width=100)"
   ]
  },
  {
   "cell_type": "code",
   "execution_count": 34,
   "metadata": {},
   "outputs": [],
   "source": [
    "# save our best estimator\n",
    "best_mlp = mlp_grid_search.best_estimator_"
   ]
  },
  {
   "cell_type": "markdown",
   "metadata": {},
   "source": [
    "We can observe above that 'logistic' activation functions perform poorly and generalize worse than 'identity' functions across the board. Further, the higher the alpha (or regularization penalty) the better the generalization and test score for our neural network for the given activation function"
   ]
  },
  {
   "cell_type": "markdown",
   "metadata": {},
   "source": [
    "### 4.7 Save our Models"
   ]
  },
  {
   "cell_type": "code",
   "execution_count": 35,
   "metadata": {},
   "outputs": [
    {
     "data": {
      "text/plain": [
       "['models/MLP_Classifier.joblib']"
      ]
     },
     "execution_count": 35,
     "metadata": {},
     "output_type": "execute_result"
    }
   ],
   "source": [
    "from joblib import dump\n",
    "\n",
    "# create a folder where all trained models will be kept\n",
    "if not os.path.exists(\"models\"):\n",
    " os.makedirs(\"models\")\n",
    "\n",
    "\n",
    "# save each of our best models to the folder\n",
    "dump(best_rf, 'models/random_forest.joblib')\n",
    "dump(best_svm, 'models/Support_Vector.joblib')\n",
    "dump(best_lr, 'models/Logistic_Regression.joblib')\n",
    "dump(best_ada, 'models/ADA_Boost.joblib')\n",
    "dump(best_mlp, 'models/MLP_Classifier.joblib')\n"
   ]
  },
  {
   "cell_type": "markdown",
   "metadata": {},
   "source": [
    "## 5. Model Evaluation"
   ]
  },
  {
   "cell_type": "markdown",
   "metadata": {},
   "source": [
    "In this section we will be evaluating our final models based on their ability to predict Fatal Accidents. The evaluation will be done on the *testing* datasets only. We will evaluate performance based on various classification accuracy metrics as well as take a closer look at the confusion matrix to identify prediction performance based on class.\n",
    "\n",
    "\n",
    "Additionally, we will also be exploring the feature importance, and other information learned from each of the models.\n",
    "\n",
    "- Evaluate models based on prediction Accuracy\n",
    "- Evaluate models based on insights gained"
   ]
  },
  {
   "cell_type": "markdown",
   "metadata": {},
   "source": [
    "### 5.1 Evaluate Model Accuracy"
   ]
  },
  {
   "cell_type": "markdown",
   "metadata": {},
   "source": [
    "As we will be evaluating all of our models in this section, lets define the functions we'll use to visualize the evaluation"
   ]
  },
  {
   "cell_type": "code",
   "execution_count": 36,
   "metadata": {},
   "outputs": [],
   "source": [
    "# import the recall and precision scores\n",
    "from sklearn.metrics import recall_score\n",
    "from sklearn.metrics import precision_score\n",
    "\n",
    "\n",
    "# define the function to get accuracy scores\n",
    "def plot_metrics(ytest, yhat, model):\n",
    "    \n",
    "    # calculate the metrics\n",
    "    Recall = recall_score(ytest, yhat, pos_label='Fatal', average='macro')\n",
    "    Precision = precision_score(ytest, yhat, pos_label='Fatal', average='macro')\n",
    "\n",
    "    # we define f1 average to be macro as we want to avoid being misled due to class imbalance\n",
    "    f1_macro = f1_score(ytest, yhat, pos_label='Fatal', average='macro')\n",
    "\n",
    "    # put the metrics into a dataframe\n",
    "    metrics = pd.DataFrame({\n",
    "                'Recall': Recall,\n",
    "                'Precision': Precision,\n",
    "                'F1_score': f1_macro,\n",
    "    }, index=[0]).sort_index()\n",
    "\n",
    "    sns.catplot(data=metrics, kind='bar', palette='pastel').set(\n",
    "        title='Accuracy Metrics for'+\" \"+ model +\" \"+'model')\n",
    "\n",
    "\n",
    "\n",
    "# define the function to plot the confusion matrix given set of predictions\n",
    "def plot_confusion_matrix(y_test, yhat):\n",
    "    ConfusionMatrixDisplay.from_predictions(\n",
    "        y_test, yhat, labels=y_test.Fatal.unique(),\n",
    "        cmap=plt.cm.Blues,\n",
    "\n",
    "        # we normalize to give proportion based on the row (or true value)\n",
    "        # as such we will be seeing ratios that add up to 1 on each row of the matrix\n",
    "        normalize='true'\n",
    "    )\n",
    "    plt.grid(False)"
   ]
  },
  {
   "cell_type": "markdown",
   "metadata": {},
   "source": [
    "#### Baseline"
   ]
  },
  {
   "cell_type": "code",
   "execution_count": 37,
   "metadata": {},
   "outputs": [
    {
     "data": {
      "image/png": "[encoded data removed]",
      "text/plain": [
       "<Figure size 360x360 with 1 Axes>"
      ]
     },
     "metadata": {},
     "output_type": "display_data"
    }
   ],
   "source": [
    "# define the baseline predictions first\n",
    "yhat_baseline = np.full((y_test.shape[0], 1), major_class)\n",
    "\n",
    "# evaluate baseline metrics using the previously defined function\n",
    "plot_metrics(y_test, yhat_baseline, 'Baseline')"
   ]
  },
  {
   "cell_type": "code",
   "execution_count": 38,
   "metadata": {},
   "outputs": [
    {
     "data": {
      "image/png": "[encoded data removed]",
      "text/plain": [
       "<Figure size 432x288 with 2 Axes>"
      ]
     },
     "metadata": {},
     "output_type": "display_data"
    }
   ],
   "source": [
    "plot_confusion_matrix(y_test, yhat_baseline)"
   ]
  },
  {
   "cell_type": "markdown",
   "metadata": {},
   "source": [
    "The result of assuming all cases are Non-Fatal is evident in our baseline model, the model does not predict a single Fatal case, and therefore the resultant f1-macro score is almost 0.5 (it would be close to 1 if it were micro-averaged due to class imbalance)"
   ]
  },
  {
   "cell_type": "markdown",
   "metadata": {},
   "source": [
    "### Random Forest"
   ]
  },
  {
   "cell_type": "code",
   "execution_count": 39,
   "metadata": {},
   "outputs": [
    {
     "data": {
      "image/png": "[encoded data removed]",
      "text/plain": [
       "<Figure size 360x360 with 1 Axes>"
      ]
     },
     "metadata": {},
     "output_type": "display_data"
    }
   ],
   "source": [
    "# get the predictions for the random forest\n",
    "yhat_RF = best_rf.predict(x_test_new)\n",
    "\n",
    "# call the plot metrics function\n",
    "plot_metrics(y_test, yhat_RF, 'RF')"
   ]
  },
  {
   "cell_type": "code",
   "execution_count": 40,
   "metadata": {},
   "outputs": [
    {
     "data": {
      "image/png": "[encoded data removed]",
      "text/plain": [
       "<Figure size 432x288 with 2 Axes>"
      ]
     },
     "metadata": {},
     "output_type": "display_data"
    }
   ],
   "source": [
    "# plot the confusion matrix\n",
    "plot_confusion_matrix(y_test, yhat_RF)"
   ]
  },
  {
   "cell_type": "markdown",
   "metadata": {},
   "source": [
    "The performance of our Random Forest is positive, with our model predicting the true labels 70% of the time in both Fatal and Non-Fatal cases. Further the model labels almost every 3 in 4 True Fatal cases as Fatal (74%)."
   ]
  },
  {
   "cell_type": "markdown",
   "metadata": {},
   "source": [
    "### Support-Vector-Machine"
   ]
  },
  {
   "cell_type": "code",
   "execution_count": 41,
   "metadata": {},
   "outputs": [
    {
     "data": {
      "image/png": "[encoded data removed]",
      "text/plain": [
       "<Figure size 360x360 with 1 Axes>"
      ]
     },
     "metadata": {},
     "output_type": "display_data"
    }
   ],
   "source": [
    "# get predictions for the svm prediction\n",
    "yhat_SVM = best_svm.predict(x_test_new)\n",
    "\n",
    "# get the metrics\n",
    "plot_metrics(y_test, yhat_SVM, 'SVM')"
   ]
  },
  {
   "cell_type": "code",
   "execution_count": 42,
   "metadata": {},
   "outputs": [
    {
     "data": {
      "image/png": "[encoded data removed]",
      "text/plain": [
       "<Figure size 432x288 with 2 Axes>"
      ]
     },
     "metadata": {},
     "output_type": "display_data"
    }
   ],
   "source": [
    "plot_confusion_matrix(y_test, yhat_SVM)"
   ]
  },
  {
   "cell_type": "markdown",
   "metadata": {},
   "source": [
    "### "
   ]
  },
  {
   "cell_type": "markdown",
   "metadata": {},
   "source": [
    "We see good performance for the SVM on distinguishing Fatal cases. 3/4 of Fatal cases are correctly classified as such. There is less accuracy for non-fatal, however, we meet our objective of having a model that is good at understanding and predicting Fatal cases."
   ]
  },
  {
   "cell_type": "markdown",
   "metadata": {},
   "source": [
    "### Logistic Regression"
   ]
  },
  {
   "cell_type": "code",
   "execution_count": 43,
   "metadata": {},
   "outputs": [
    {
     "data": {
      "image/png": "[encoded data removed]",
      "text/plain": [
       "<Figure size 360x360 with 1 Axes>"
      ]
     },
     "metadata": {},
     "output_type": "display_data"
    }
   ],
   "source": [
    "# get the predictions for the logistic regression\n",
    "yhat_lr = best_lr.predict(x_test_new)\n",
    "\n",
    "# plot the accuracy metrics\n",
    "plot_metrics(y_test, yhat_lr, 'Logistic Regression')"
   ]
  },
  {
   "cell_type": "code",
   "execution_count": 44,
   "metadata": {},
   "outputs": [
    {
     "data": {
      "image/png": "[encoded data removed]",
      "text/plain": [
       "<Figure size 432x288 with 2 Axes>"
      ]
     },
     "metadata": {},
     "output_type": "display_data"
    }
   ],
   "source": [
    "# plot the confusion matrix\n",
    "plot_confusion_matrix(y_test, yhat_lr)"
   ]
  },
  {
   "cell_type": "markdown",
   "metadata": {},
   "source": [
    "The Logistic Regression also has good scores, making accurate predictions. As we observe from some of our other models, our Logistic Regression model also predicts the true label over 70% of the time (when we normalize based on class and not for the whole dataset)"
   ]
  },
  {
   "cell_type": "markdown",
   "metadata": {},
   "source": [
    "### Ada Boost"
   ]
  },
  {
   "cell_type": "code",
   "execution_count": 45,
   "metadata": {},
   "outputs": [
    {
     "data": {
      "image/png": "[encoded data removed]",
      "text/plain": [
       "<Figure size 360x360 with 1 Axes>"
      ]
     },
     "metadata": {},
     "output_type": "display_data"
    }
   ],
   "source": [
    "# get the predictions for the Adaptive Boosting\n",
    "yhat_ada = best_ada.predict(x_test_new)\n",
    "\n",
    "# plot the accuracy metrics\n",
    "plot_metrics(y_test, yhat_ada, 'Ada Boost')"
   ]
  },
  {
   "cell_type": "code",
   "execution_count": 46,
   "metadata": {},
   "outputs": [
    {
     "data": {
      "image/png": "[encoded data removed]",
      "text/plain": [
       "<Figure size 432x288 with 2 Axes>"
      ]
     },
     "metadata": {},
     "output_type": "display_data"
    }
   ],
   "source": [
    "plot_confusion_matrix(y_test, yhat_ada)"
   ]
  },
  {
   "cell_type": "markdown",
   "metadata": {},
   "source": [
    "The results of our adaptive boosting method is quite similar to the Logistic regression"
   ]
  },
  {
   "cell_type": "markdown",
   "metadata": {},
   "source": [
    "### Multi-Layer Perceptron"
   ]
  },
  {
   "cell_type": "code",
   "execution_count": 47,
   "metadata": {},
   "outputs": [
    {
     "data": {
      "image/png": "[encoded data removed]",
      "text/plain": [
       "<Figure size 360x360 with 1 Axes>"
      ]
     },
     "metadata": {},
     "output_type": "display_data"
    }
   ],
   "source": [
    "# get the predictions for the Neural Network\n",
    "yhat_mlp = best_mlp.predict(x_test_new)\n",
    "\n",
    "# plot the accuracy metrics\n",
    "plot_metrics(y_test, yhat_mlp, 'Multi-Layer Perception (Neural Network)')"
   ]
  },
  {
   "cell_type": "code",
   "execution_count": 48,
   "metadata": {},
   "outputs": [
    {
     "data": {
      "image/png": "[encoded data removed]",
      "text/plain": [
       "<Figure size 432x288 with 2 Axes>"
      ]
     },
     "metadata": {},
     "output_type": "display_data"
    }
   ],
   "source": [
    "# plot the confusion matrix\n",
    "plot_confusion_matrix(y_test, yhat_mlp)"
   ]
  },
  {
   "cell_type": "markdown",
   "metadata": {},
   "source": [
    "We note that the predictions for our Logistic Regression, ADA Boost, and even the Neural Network model is almost the same. This may be indicative of all 3 of the models learning similarly from the data. We can identify this further as we explore feature importance and weights in the next section. "
   ]
  },
  {
   "cell_type": "markdown",
   "metadata": {},
   "source": [
    "### 5.2 Analyse Models for Insights"
   ]
  },
  {
   "cell_type": "markdown",
   "metadata": {},
   "source": [
    "In this section we will be:\n",
    "- Identifying feature importances with built-in Random Forest\n",
    "- Identifying feature relevance in other models using Coefficients to rank them\n",
    "- Identifying most important features of our best models using 'permutation importance' technique"
   ]
  },
  {
   "cell_type": "markdown",
   "metadata": {},
   "source": [
    "### 5.2.1 Feature Importance"
   ]
  },
  {
   "cell_type": "markdown",
   "metadata": {},
   "source": [
    "#### Random Forest"
   ]
  },
  {
   "cell_type": "code",
   "execution_count": null,
   "metadata": {},
   "outputs": [],
   "source": [
    "# get the feature importances\n",
    "rf_importance = best_rf.feature_importances_\n",
    "feat_label = x_train.columns\n",
    "indices = np.argsort(rf_importance)[::-1]"
   ]
  },
  {
   "cell_type": "code",
   "execution_count": null,
   "metadata": {},
   "outputs": [
    {
     "data": {
      "image/png": "[encoded data removed]",
      "text/plain": [
       "<Figure size 720x720 with 1 Axes>"
      ]
     },
     "metadata": {},
     "output_type": "display_data"
    }
   ],
   "source": [
    "# set number of features \n",
    "num_features = 15\n",
    "\n",
    "# set the theme for sns\n",
    "sns.set_theme(style='darkgrid', palette='inferno')\n",
    "\n",
    "# plot the relative importances\n",
    "plt.figure(figsize=(10,10))\n",
    "plt.title('Feature Importances in Random Forest')\n",
    "\n",
    "# only visualize the top 15 features\n",
    "plt.barh(range(num_features), rf_importance[indices[:num_features]], align='center')\n",
    "plt.yticks(range(num_features), [feat_label[i] for i in indices[:num_features]])\n",
    "plt.xlabel('Relative Importance')\n",
    "plt.show()"
   ]
  },
  {
   "cell_type": "markdown",
   "metadata": {},
   "source": [
    "#### Ada-Boost"
   ]
  },
  {
   "cell_type": "code",
   "execution_count": null,
   "metadata": {},
   "outputs": [],
   "source": [
    "# get the feature importances\n",
    "ada_importance = best_ada.feature_importances_\n",
    "feat_label = x_train.columns\n",
    "indices = np.argsort(ada_importance)[::-1]"
   ]
  },
  {
   "cell_type": "code",
   "execution_count": null,
   "metadata": {},
   "outputs": [
    {
     "data": {
      "image/png": "[encoded data removed]",
      "text/plain": [
       "<Figure size 720x720 with 1 Axes>"
      ]
     },
     "metadata": {},
     "output_type": "display_data"
    }
   ],
   "source": [
    "# set number of features \n",
    "num_features = 15\n",
    "\n",
    "# set the theme for sns\n",
    "sns.set_theme(style='darkgrid', palette='summer')\n",
    "\n",
    "# plot the relative importances\n",
    "plt.figure(figsize=(10,10))\n",
    "plt.title('Feature Importances in Ada-Boost')\n",
    "\n",
    "# only visualize the top 15 features\n",
    "plt.barh(range(num_features), ada_importance[indices[:num_features]], align='center')\n",
    "plt.yticks(range(num_features), [feat_label[i] for i in indices[:num_features]])\n",
    "plt.xlabel('Relative Importance')\n",
    "plt.show()"
   ]
  },
  {
   "cell_type": "markdown",
   "metadata": {},
   "source": [
    "### 5.2.2 Coefficients"
   ]
  },
  {
   "cell_type": "markdown",
   "metadata": {},
   "source": [
    "Note: Measuring feat.importance by Coefficients is somewhat unreliable as larger coefficients do not necessarily imply that feature is more important. \n",
    " - There may be issues with multi-collinearity.\n",
    " - Even in scaled data, coefficients may be larger by construction.\n",
    "\n",
    " \n",
    "We will be using relative coefficient size as a proxy to merely identify any similarities with the methods where we use feature importance."
   ]
  },
  {
   "cell_type": "markdown",
   "metadata": {},
   "source": [
    "#### Support Vector Classifier"
   ]
  },
  {
   "cell_type": "code",
   "execution_count": null,
   "metadata": {},
   "outputs": [],
   "source": [
    "# get the relative size of squared coefficients (biggest coefficients will be set as 1) \n",
    "svm_weights = (best_svm.coef_ ** 2).sum(axis=0)\n",
    "svm_weights /= svm_weights.max()\n",
    "indices = np.argsort(svm_weights)[::-1]"
   ]
  },
  {
   "cell_type": "code",
   "execution_count": null,
   "metadata": {},
   "outputs": [
    {
     "data": {
      "image/png": "[encoded data removed]",
      "text/plain": [
       "<Figure size 720x720 with 1 Axes>"
      ]
     },
     "metadata": {},
     "output_type": "display_data"
    }
   ],
   "source": [
    "# set number of features \n",
    "num_features = 15\n",
    "\n",
    "# set the theme for sns\n",
    "sns.set_theme(style='darkgrid', palette='inferno')\n",
    "\n",
    "# plot the relative importances\n",
    "plt.figure(figsize=(10,10))\n",
    "plt.title('Feature Importances')\n",
    "\n",
    "# only visualize the top 15 features\n",
    "plt.barh(range(num_features), svm_weights[indices[:num_features]], align='center')\n",
    "plt.yticks(range(num_features), [feat_label[i] for i in indices[:num_features]])\n",
    "plt.xlabel('Relative Importance')\n",
    "plt.show()"
   ]
  },
  {
   "cell_type": "markdown",
   "metadata": {},
   "source": [
    "#### Logistic Regression"
   ]
  },
  {
   "cell_type": "code",
   "execution_count": null,
   "metadata": {},
   "outputs": [],
   "source": [
    "# get the relative size of squared coefficients\n",
    "lr_weights = (best_lr.coef_ ** 2).sum(axis=0)\n",
    "lr_weights /= lr_weights.max()\n",
    "indices = np.argsort(lr_weights)[::-1]"
   ]
  },
  {
   "cell_type": "code",
   "execution_count": null,
   "metadata": {},
   "outputs": [
    {
     "data": {
      "image/png": "[encoded data removed]",
      "text/plain": [
       "<Figure size 720x720 with 1 Axes>"
      ]
     },
     "metadata": {},
     "output_type": "display_data"
    }
   ],
   "source": [
    "# set number of features \n",
    "num_features = 15\n",
    "\n",
    "# set the theme for sns\n",
    "sns.set_theme(style='darkgrid', palette='inferno')\n",
    "\n",
    "# plot the relative importances\n",
    "plt.figure(figsize=(10,10))\n",
    "plt.title('Feature Importances')\n",
    "\n",
    "# only visualize the top 10 features\n",
    "plt.barh(range(num_features), lr_weights[indices[:num_features]], align='center')\n",
    "plt.yticks(range(num_features), [feat_label[i] for i in indices[:num_features]])\n",
    "plt.xlabel('Relative Importance')\n",
    "plt.show()"
   ]
  },
  {
   "cell_type": "markdown",
   "metadata": {},
   "source": [
    "### 5.2.3 Permutation Importance"
   ]
  },
  {
   "cell_type": "markdown",
   "metadata": {},
   "source": [
    "We will implement Permutation to assess feature importance for MLP models.  \n",
    "\n",
    "By permutation importance, we measure the decrease in performance of the model by randomly shuffling the variable such that the relationship between the variable and target is broken.\n",
    "\n",
    "\n"
   ]
  },
  {
   "cell_type": "code",
   "execution_count": null,
   "metadata": {},
   "outputs": [],
   "source": [
    "# import the permutation importance class\n",
    "from sklearn.inspection import permutation_importance\n",
    "\n",
    "# calculate the permutation feature importance for Multi-Layer Perceptron\n",
    "mlp_importance = permutation_importance(best_mlp, x_test_new, y_test,\n",
    "                                        n_repeats=15, random_state=7)"
   ]
  },
  {
   "cell_type": "code",
   "execution_count": null,
   "metadata": {},
   "outputs": [],
   "source": [
    "# set the data required to plot \n",
    "indices = mlp_importance.importances_mean.argsort()[::-1]\n",
    "\n",
    "# set the average importance values obtained from the mlp importance\n",
    "mlpimportance = mlp_importance.importances_mean"
   ]
  },
  {
   "cell_type": "code",
   "execution_count": null,
   "metadata": {},
   "outputs": [
    {
     "data": {
      "image/png": "[encoded data removed]",
      "text/plain": [
       "<Figure size 720x720 with 1 Axes>"
      ]
     },
     "metadata": {},
     "output_type": "display_data"
    }
   ],
   "source": [
    "# set number of features \n",
    "num_features = 15\n",
    "\n",
    "# set the theme for sns\n",
    "sns.set_theme(style='darkgrid', palette='inferno')\n",
    "\n",
    "# plot the relative importances\n",
    "plt.figure(figsize=(10,10))\n",
    "plt.title('Feature Importances')\n",
    "\n",
    "# only visualize the top 10 features\n",
    "plt.barh(range(num_features), mlpimportance[indices[:num_features]], align='center')\n",
    "plt.yticks(range(num_features), [feat_label[i] for i in indices[:num_features]])\n",
    "plt.xlabel('Permutation Importance')\n",
    "plt.show()"
   ]
  },
  {
   "cell_type": "markdown",
   "metadata": {},
   "source": [
    "We observe that despite similar performance and classification accuracy with other models. Our MLP classifier actually makes predictions in a different way, or ranks importances differently, with Motorways being the most important factor."
   ]
  },
  {
   "cell_type": "markdown",
   "metadata": {},
   "source": [
    "## 6. Conclusions"
   ]
  },
  {
   "cell_type": "markdown",
   "metadata": {},
   "source": [
    "The models we have built show encouraging results in our mission to study Fatal Accidents and their primary contributing factors. Good model prediction accuracy indicates that our models understand Fatal accidents well. Further most of our models agree on what are the factors that contribute most to a Fatal Accident.\n",
    " \n",
    "- Many models indicate 60mph (and high speed limits in general) as more relevant to fatal accidents. This may be indicative of faster speeds leading to more dangerous accidents.\n",
    "\n",
    "- However, our MLP model does not take high speed limits as being as important and instead takes Motorways as the most important element.\n",
    "\n",
    "- We understand from general UK traffic regulations that motorways have a speed limit of 70mph. Therefore this difference may be due to correlation between the two variables (all motorways would also have speed limits of 70mph).\n",
    "\n",
    "- With this information, we can hypothesize that either faster speeds lead to more Fatal accidents (in a likelihood sense), or accidents are more often Fatal when occurring on a motorway due to slower emergency response for instnace, as opposed to an accident in a metropolitan area. \n",
    "\n",
    "- Furthermore, we can also see that both the Random Forest and ADA Boost algorithm places significant importance on the Age of the Casualty. Which may be indicative of certain age groups either being more likely to be involved in a Fatal accident (behavior wise) or are more vulnerable (health wise)\n",
    "\n",
    "Our models have also identified additional features which may be relevant, such as engine capacity (faster cars), or time of day (late night) which may all be relevant matters for the Department of Transport to consider when planning preventive measures."
   ]
  }
 ],
 "metadata": {
  "interpreter": {
   "hash": "c5e48f84046969b800ff52f6d80523bcd1ca3fb1a99f1449e4197bf6c73dc096"
  },
  "kernelspec": {
   "display_name": "Python 3.8.5 ('base')",
   "language": "python",
   "name": "python3"
  },
  "language_info": {
   "codemirror_mode": {
    "name": "ipython",
    "version": 3
   },
   "file_extension": ".py",
   "mimetype": "text/x-python",
   "name": "python",
   "nbconvert_exporter": "python",
   "pygments_lexer": "ipython3",
   "version": "3.8.5"
  },
  "orig_nbformat": 4
 },
 "nbformat": 4,
 "nbformat_minor": 2
}
